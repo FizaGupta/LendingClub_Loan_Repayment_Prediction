{
 "cells": [
  {
   "cell_type": "markdown",
   "metadata": {},
   "source": [
    "# <font color='red'> Applied Machine Learning Project: \n",
    "\n",
    "# LendingClub Loan Repayment Prediction (Classification) \n",
    "\n"
   ]
  },
  {
   "cell_type": "markdown",
   "metadata": {},
   "source": [
    "### Data Source:\n",
    "\n",
    "For this project I am going to explore publicly available data from [LendingClub.com](www.lendingclub.com). Lending Club connects people who need money (borrowers) with people who have money (investors). Hopefully, as an investor you would want to invest in people who showed a profile of having a high probability of paying you back. We will try to create a model that will help predict this.\n",
    "\n",
    "link: https://www.kaggle.com/braindeadcoder/lending-club-data"
   ]
  },
  {
   "cell_type": "markdown",
   "metadata": {},
   "source": [
    "### Dataset and features and target value. \n",
    "\n",
    "##### Features\n",
    "\n",
    "- credit.policy: 1 if the customer meets the credit underwriting criteria of LendingClub.com, and 0 otherwise.\n",
    "\n",
    "\n",
    "- purpose: The purpose of the loan (takes values \"credit_card\", \"debt_consolidation\", \"educational\", \"major_purchase\", \"small_business\", and \"all_other\").\n",
    "\n",
    "\n",
    "- int.rate: The interest rate of the loan, as a proportion (a rate of 11% would be stored as 0.11). Borrowers judged by LendingClub.com to be more risky are assigned higher interest rates.\n",
    "\n",
    "\n",
    "- installment: The monthly installments owed by the borrower if the loan is funded.\n",
    "\n",
    "\n",
    "- log.annual.inc: The natural log of the self-reported annual income of the borrower.\n",
    "\n",
    "\n",
    "- dti: The debt-to-income ratio of the borrower (amount of debt divided by annual income).\n",
    "\n",
    "\n",
    "- fico: The FICO credit score of the borrower.\n",
    "\n",
    "\n",
    "- days.with.cr.line: The number of days the borrower has had a credit line.\n",
    "\n",
    "\n",
    "- revol.bal: The borrower's revolving balance (amount unpaid at the end of the credit card billing cycle).\n",
    "\n",
    "\n",
    "- revol.util: The borrower's revolving line utilization rate (the amount of the credit line used relative to total credit available).\n",
    "\n",
    "\n",
    "- inq.last.6mths: The borrower's number of inquiries by creditors in the last 6 months.\n",
    "\n",
    "\n",
    "- delinq.2yrs: The number of times the borrower had been 30+ days past due on a payment in the past 2 years.\n",
    "\n",
    "\n",
    "- pub.rec: The borrower's number of derogatory public records (bankruptcy filings, tax liens, or judgments).\n",
    "\n",
    "\n",
    "##### Target value\n",
    "\n",
    "- not.fully.paid - It represents whether the particular loan will be paid or not.\n",
    "\n"
   ]
  },
  {
   "cell_type": "markdown",
   "metadata": {},
   "source": [
    "### Importing libraries and Packages"
   ]
  },
  {
   "cell_type": "code",
   "execution_count": 1,
   "metadata": {},
   "outputs": [],
   "source": [
    "import pandas as pd\n",
    "import numpy as np\n",
    "import matplotlib.pyplot as plt\n",
    "import seaborn as sns\n",
    "%matplotlib inline\n",
    "\n",
    "from sklearn.model_selection import GridSearchCV\n",
    "from sklearn.metrics import classification_report,confusion_matrix,f1_score\n",
    "\n",
    "import warnings\n",
    "warnings.filterwarnings(\"ignore\")\n"
   ]
  },
  {
   "cell_type": "code",
   "execution_count": 2,
   "metadata": {},
   "outputs": [],
   "source": [
    "def null_percentage(df):\n",
    "    '''\n",
    "    input: dataframe\n",
    "    output: Null percentage of columns in dataframe\n",
    "    \n",
    "    '''\n",
    "    percent = df.isnull().sum()/len(df.index)*100\n",
    "    df = pd.DataFrame(round(percent,2),columns=['null_percent'])\n",
    "    \n",
    "    \n",
    "    return df[df['null_percent']!=0.00].sort_values('null_percent',ascending=False)"
   ]
  },
  {
   "cell_type": "code",
   "execution_count": 3,
   "metadata": {},
   "outputs": [],
   "source": [
    "def cat_count(df):\n",
    "    '''\n",
    "    input: dataframe\n",
    "    output: Give counts of number of categories in a column\n",
    "    \n",
    "    '''\n",
    "    counts = {}\n",
    "    cat_cols = df.select_dtypes(include=['object']).columns\n",
    "    for i in range(len(cat_cols)):\n",
    "        counts[cat_cols[i]] = len(df[cat_cols[i]].value_counts())\n",
    "    \n",
    "    return pd.DataFrame(data=counts.values(), index=counts.keys(),columns=['Categories Counts']).sort_values('Categories Counts',ascending=False)"
   ]
  },
  {
   "cell_type": "code",
   "execution_count": 4,
   "metadata": {},
   "outputs": [],
   "source": [
    "def dummy_variables(df,cols):\n",
    "    '''\n",
    "    input: dataframe and categorical variable(to make dummy variable)\n",
    "    output: dataframe with dummy variables\n",
    "    \n",
    "    '''\n",
    "    for i in range(len(cols)):\n",
    "        dummies = pd.get_dummies(df[cols[i]],drop_first=False)\n",
    "        df = df.join(dummies)\n",
    "        \n",
    "    df.drop(cols,inplace=True,axis=1)\n",
    "    return df"
   ]
  },
  {
   "cell_type": "markdown",
   "metadata": {},
   "source": [
    "### Importing Data"
   ]
  },
  {
   "cell_type": "code",
   "execution_count": 5,
   "metadata": {},
   "outputs": [],
   "source": [
    "loans = pd.read_csv('loan_data.csv')\n"
   ]
  },
  {
   "cell_type": "code",
   "execution_count": 6,
   "metadata": {},
   "outputs": [],
   "source": [
    "drop_indices = np.random.choice(loans.index, int(loans.shape[0]*0.056), replace=False)\n",
    "loans.iloc[drop_indices] = np.nan"
   ]
  },
  {
   "cell_type": "markdown",
   "metadata": {},
   "source": [
    "### Exploratory Data Analysis (EDA)"
   ]
  },
  {
   "cell_type": "code",
   "execution_count": 7,
   "metadata": {},
   "outputs": [
    {
     "data": {
      "text/plain": [
       "Index(['credit.policy', 'purpose', 'int.rate', 'installment', 'log.annual.inc',\n",
       "       'dti', 'fico', 'days.with.cr.line', 'revol.bal', 'revol.util',\n",
       "       'inq.last.6mths', 'delinq.2yrs', 'pub.rec', 'not.fully.paid'],\n",
       "      dtype='object')"
      ]
     },
     "execution_count": 7,
     "metadata": {},
     "output_type": "execute_result"
    }
   ],
   "source": [
    "loans.columns"
   ]
  },
  {
   "cell_type": "code",
   "execution_count": 8,
   "metadata": {},
   "outputs": [
    {
     "data": {
      "text/html": [
       "<div>\n",
       "<style scoped>\n",
       "    .dataframe tbody tr th:only-of-type {\n",
       "        vertical-align: middle;\n",
       "    }\n",
       "\n",
       "    .dataframe tbody tr th {\n",
       "        vertical-align: top;\n",
       "    }\n",
       "\n",
       "    .dataframe thead th {\n",
       "        text-align: right;\n",
       "    }\n",
       "</style>\n",
       "<table border=\"1\" class=\"dataframe\">\n",
       "  <thead>\n",
       "    <tr style=\"text-align: right;\">\n",
       "      <th></th>\n",
       "      <th>credit.policy</th>\n",
       "      <th>purpose</th>\n",
       "      <th>int.rate</th>\n",
       "      <th>installment</th>\n",
       "      <th>log.annual.inc</th>\n",
       "      <th>dti</th>\n",
       "      <th>fico</th>\n",
       "      <th>days.with.cr.line</th>\n",
       "      <th>revol.bal</th>\n",
       "      <th>revol.util</th>\n",
       "      <th>inq.last.6mths</th>\n",
       "      <th>delinq.2yrs</th>\n",
       "      <th>pub.rec</th>\n",
       "      <th>not.fully.paid</th>\n",
       "    </tr>\n",
       "  </thead>\n",
       "  <tbody>\n",
       "    <tr>\n",
       "      <th>0</th>\n",
       "      <td>1.0</td>\n",
       "      <td>debt_consolidation</td>\n",
       "      <td>0.1189</td>\n",
       "      <td>829.10</td>\n",
       "      <td>11.350407</td>\n",
       "      <td>19.48</td>\n",
       "      <td>737.0</td>\n",
       "      <td>5639.958333</td>\n",
       "      <td>28854.0</td>\n",
       "      <td>52.1</td>\n",
       "      <td>0.0</td>\n",
       "      <td>0.0</td>\n",
       "      <td>0.0</td>\n",
       "      <td>0.0</td>\n",
       "    </tr>\n",
       "    <tr>\n",
       "      <th>1</th>\n",
       "      <td>1.0</td>\n",
       "      <td>credit_card</td>\n",
       "      <td>0.1071</td>\n",
       "      <td>228.22</td>\n",
       "      <td>11.082143</td>\n",
       "      <td>14.29</td>\n",
       "      <td>707.0</td>\n",
       "      <td>2760.000000</td>\n",
       "      <td>33623.0</td>\n",
       "      <td>76.7</td>\n",
       "      <td>0.0</td>\n",
       "      <td>0.0</td>\n",
       "      <td>0.0</td>\n",
       "      <td>0.0</td>\n",
       "    </tr>\n",
       "    <tr>\n",
       "      <th>2</th>\n",
       "      <td>1.0</td>\n",
       "      <td>debt_consolidation</td>\n",
       "      <td>0.1357</td>\n",
       "      <td>366.86</td>\n",
       "      <td>10.373491</td>\n",
       "      <td>11.63</td>\n",
       "      <td>682.0</td>\n",
       "      <td>4710.000000</td>\n",
       "      <td>3511.0</td>\n",
       "      <td>25.6</td>\n",
       "      <td>1.0</td>\n",
       "      <td>0.0</td>\n",
       "      <td>0.0</td>\n",
       "      <td>0.0</td>\n",
       "    </tr>\n",
       "    <tr>\n",
       "      <th>3</th>\n",
       "      <td>1.0</td>\n",
       "      <td>debt_consolidation</td>\n",
       "      <td>0.1008</td>\n",
       "      <td>162.34</td>\n",
       "      <td>11.350407</td>\n",
       "      <td>8.10</td>\n",
       "      <td>712.0</td>\n",
       "      <td>2699.958333</td>\n",
       "      <td>33667.0</td>\n",
       "      <td>73.2</td>\n",
       "      <td>1.0</td>\n",
       "      <td>0.0</td>\n",
       "      <td>0.0</td>\n",
       "      <td>0.0</td>\n",
       "    </tr>\n",
       "    <tr>\n",
       "      <th>4</th>\n",
       "      <td>1.0</td>\n",
       "      <td>credit_card</td>\n",
       "      <td>0.1426</td>\n",
       "      <td>102.92</td>\n",
       "      <td>11.299732</td>\n",
       "      <td>14.97</td>\n",
       "      <td>667.0</td>\n",
       "      <td>4066.000000</td>\n",
       "      <td>4740.0</td>\n",
       "      <td>39.5</td>\n",
       "      <td>0.0</td>\n",
       "      <td>1.0</td>\n",
       "      <td>0.0</td>\n",
       "      <td>0.0</td>\n",
       "    </tr>\n",
       "  </tbody>\n",
       "</table>\n",
       "</div>"
      ],
      "text/plain": [
       "   credit.policy             purpose  int.rate  installment  log.annual.inc  \\\n",
       "0            1.0  debt_consolidation    0.1189       829.10       11.350407   \n",
       "1            1.0         credit_card    0.1071       228.22       11.082143   \n",
       "2            1.0  debt_consolidation    0.1357       366.86       10.373491   \n",
       "3            1.0  debt_consolidation    0.1008       162.34       11.350407   \n",
       "4            1.0         credit_card    0.1426       102.92       11.299732   \n",
       "\n",
       "     dti   fico  days.with.cr.line  revol.bal  revol.util  inq.last.6mths  \\\n",
       "0  19.48  737.0        5639.958333    28854.0        52.1             0.0   \n",
       "1  14.29  707.0        2760.000000    33623.0        76.7             0.0   \n",
       "2  11.63  682.0        4710.000000     3511.0        25.6             1.0   \n",
       "3   8.10  712.0        2699.958333    33667.0        73.2             1.0   \n",
       "4  14.97  667.0        4066.000000     4740.0        39.5             0.0   \n",
       "\n",
       "   delinq.2yrs  pub.rec  not.fully.paid  \n",
       "0          0.0      0.0             0.0  \n",
       "1          0.0      0.0             0.0  \n",
       "2          0.0      0.0             0.0  \n",
       "3          0.0      0.0             0.0  \n",
       "4          1.0      0.0             0.0  "
      ]
     },
     "execution_count": 8,
     "metadata": {},
     "output_type": "execute_result"
    }
   ],
   "source": [
    "loans.head()\n"
   ]
  },
  {
   "cell_type": "code",
   "execution_count": 9,
   "metadata": {},
   "outputs": [
    {
     "name": "stdout",
     "output_type": "stream",
     "text": [
      "<class 'pandas.core.frame.DataFrame'>\n",
      "RangeIndex: 9578 entries, 0 to 9577\n",
      "Data columns (total 14 columns):\n",
      "credit.policy        9042 non-null float64\n",
      "purpose              9042 non-null object\n",
      "int.rate             9042 non-null float64\n",
      "installment          9042 non-null float64\n",
      "log.annual.inc       9042 non-null float64\n",
      "dti                  9042 non-null float64\n",
      "fico                 9042 non-null float64\n",
      "days.with.cr.line    9042 non-null float64\n",
      "revol.bal            9042 non-null float64\n",
      "revol.util           9042 non-null float64\n",
      "inq.last.6mths       9042 non-null float64\n",
      "delinq.2yrs          9042 non-null float64\n",
      "pub.rec              9042 non-null float64\n",
      "not.fully.paid       9042 non-null float64\n",
      "dtypes: float64(13), object(1)\n",
      "memory usage: 1.0+ MB\n"
     ]
    }
   ],
   "source": [
    "loans.info()"
   ]
  },
  {
   "cell_type": "code",
   "execution_count": 10,
   "metadata": {},
   "outputs": [
    {
     "data": {
      "text/html": [
       "<div>\n",
       "<style scoped>\n",
       "    .dataframe tbody tr th:only-of-type {\n",
       "        vertical-align: middle;\n",
       "    }\n",
       "\n",
       "    .dataframe tbody tr th {\n",
       "        vertical-align: top;\n",
       "    }\n",
       "\n",
       "    .dataframe thead th {\n",
       "        text-align: right;\n",
       "    }\n",
       "</style>\n",
       "<table border=\"1\" class=\"dataframe\">\n",
       "  <thead>\n",
       "    <tr style=\"text-align: right;\">\n",
       "      <th></th>\n",
       "      <th>credit.policy</th>\n",
       "      <th>int.rate</th>\n",
       "      <th>installment</th>\n",
       "      <th>log.annual.inc</th>\n",
       "      <th>dti</th>\n",
       "      <th>fico</th>\n",
       "      <th>days.with.cr.line</th>\n",
       "      <th>revol.bal</th>\n",
       "      <th>revol.util</th>\n",
       "      <th>inq.last.6mths</th>\n",
       "      <th>delinq.2yrs</th>\n",
       "      <th>pub.rec</th>\n",
       "      <th>not.fully.paid</th>\n",
       "    </tr>\n",
       "  </thead>\n",
       "  <tbody>\n",
       "    <tr>\n",
       "      <th>count</th>\n",
       "      <td>9042.000000</td>\n",
       "      <td>9042.000000</td>\n",
       "      <td>9042.000000</td>\n",
       "      <td>9042.000000</td>\n",
       "      <td>9042.000000</td>\n",
       "      <td>9042.000000</td>\n",
       "      <td>9042.000000</td>\n",
       "      <td>9.042000e+03</td>\n",
       "      <td>9042.000000</td>\n",
       "      <td>9042.000000</td>\n",
       "      <td>9042.000000</td>\n",
       "      <td>9042.000000</td>\n",
       "      <td>9042.000000</td>\n",
       "    </tr>\n",
       "    <tr>\n",
       "      <th>mean</th>\n",
       "      <td>0.804689</td>\n",
       "      <td>0.122635</td>\n",
       "      <td>319.122111</td>\n",
       "      <td>10.929997</td>\n",
       "      <td>12.641141</td>\n",
       "      <td>710.761889</td>\n",
       "      <td>4558.807357</td>\n",
       "      <td>1.695363e+04</td>\n",
       "      <td>46.839823</td>\n",
       "      <td>1.575868</td>\n",
       "      <td>0.164897</td>\n",
       "      <td>0.062707</td>\n",
       "      <td>0.159478</td>\n",
       "    </tr>\n",
       "    <tr>\n",
       "      <th>std</th>\n",
       "      <td>0.396462</td>\n",
       "      <td>0.026791</td>\n",
       "      <td>206.677444</td>\n",
       "      <td>0.613813</td>\n",
       "      <td>6.879172</td>\n",
       "      <td>37.893552</td>\n",
       "      <td>2493.739622</td>\n",
       "      <td>3.409799e+04</td>\n",
       "      <td>28.979601</td>\n",
       "      <td>2.192396</td>\n",
       "      <td>0.546594</td>\n",
       "      <td>0.263439</td>\n",
       "      <td>0.366141</td>\n",
       "    </tr>\n",
       "    <tr>\n",
       "      <th>min</th>\n",
       "      <td>0.000000</td>\n",
       "      <td>0.060000</td>\n",
       "      <td>15.670000</td>\n",
       "      <td>7.547502</td>\n",
       "      <td>0.000000</td>\n",
       "      <td>612.000000</td>\n",
       "      <td>178.958333</td>\n",
       "      <td>0.000000e+00</td>\n",
       "      <td>0.000000</td>\n",
       "      <td>0.000000</td>\n",
       "      <td>0.000000</td>\n",
       "      <td>0.000000</td>\n",
       "      <td>0.000000</td>\n",
       "    </tr>\n",
       "    <tr>\n",
       "      <th>25%</th>\n",
       "      <td>1.000000</td>\n",
       "      <td>0.103900</td>\n",
       "      <td>163.770000</td>\n",
       "      <td>10.555813</td>\n",
       "      <td>7.270000</td>\n",
       "      <td>682.000000</td>\n",
       "      <td>2820.000000</td>\n",
       "      <td>3.224250e+03</td>\n",
       "      <td>22.800000</td>\n",
       "      <td>0.000000</td>\n",
       "      <td>0.000000</td>\n",
       "      <td>0.000000</td>\n",
       "      <td>0.000000</td>\n",
       "    </tr>\n",
       "    <tr>\n",
       "      <th>50%</th>\n",
       "      <td>1.000000</td>\n",
       "      <td>0.122100</td>\n",
       "      <td>268.950000</td>\n",
       "      <td>10.920527</td>\n",
       "      <td>12.700000</td>\n",
       "      <td>707.000000</td>\n",
       "      <td>4119.000000</td>\n",
       "      <td>8.651500e+03</td>\n",
       "      <td>46.200000</td>\n",
       "      <td>1.000000</td>\n",
       "      <td>0.000000</td>\n",
       "      <td>0.000000</td>\n",
       "      <td>0.000000</td>\n",
       "    </tr>\n",
       "    <tr>\n",
       "      <th>75%</th>\n",
       "      <td>1.000000</td>\n",
       "      <td>0.140700</td>\n",
       "      <td>433.235000</td>\n",
       "      <td>11.289832</td>\n",
       "      <td>18.000000</td>\n",
       "      <td>737.000000</td>\n",
       "      <td>5730.000000</td>\n",
       "      <td>1.821275e+04</td>\n",
       "      <td>70.900000</td>\n",
       "      <td>2.000000</td>\n",
       "      <td>0.000000</td>\n",
       "      <td>0.000000</td>\n",
       "      <td>0.000000</td>\n",
       "    </tr>\n",
       "    <tr>\n",
       "      <th>max</th>\n",
       "      <td>1.000000</td>\n",
       "      <td>0.216400</td>\n",
       "      <td>926.830000</td>\n",
       "      <td>14.180154</td>\n",
       "      <td>29.960000</td>\n",
       "      <td>827.000000</td>\n",
       "      <td>17639.958330</td>\n",
       "      <td>1.207359e+06</td>\n",
       "      <td>119.000000</td>\n",
       "      <td>33.000000</td>\n",
       "      <td>13.000000</td>\n",
       "      <td>5.000000</td>\n",
       "      <td>1.000000</td>\n",
       "    </tr>\n",
       "  </tbody>\n",
       "</table>\n",
       "</div>"
      ],
      "text/plain": [
       "       credit.policy     int.rate  installment  log.annual.inc          dti  \\\n",
       "count    9042.000000  9042.000000  9042.000000     9042.000000  9042.000000   \n",
       "mean        0.804689     0.122635   319.122111       10.929997    12.641141   \n",
       "std         0.396462     0.026791   206.677444        0.613813     6.879172   \n",
       "min         0.000000     0.060000    15.670000        7.547502     0.000000   \n",
       "25%         1.000000     0.103900   163.770000       10.555813     7.270000   \n",
       "50%         1.000000     0.122100   268.950000       10.920527    12.700000   \n",
       "75%         1.000000     0.140700   433.235000       11.289832    18.000000   \n",
       "max         1.000000     0.216400   926.830000       14.180154    29.960000   \n",
       "\n",
       "              fico  days.with.cr.line     revol.bal   revol.util  \\\n",
       "count  9042.000000        9042.000000  9.042000e+03  9042.000000   \n",
       "mean    710.761889        4558.807357  1.695363e+04    46.839823   \n",
       "std      37.893552        2493.739622  3.409799e+04    28.979601   \n",
       "min     612.000000         178.958333  0.000000e+00     0.000000   \n",
       "25%     682.000000        2820.000000  3.224250e+03    22.800000   \n",
       "50%     707.000000        4119.000000  8.651500e+03    46.200000   \n",
       "75%     737.000000        5730.000000  1.821275e+04    70.900000   \n",
       "max     827.000000       17639.958330  1.207359e+06   119.000000   \n",
       "\n",
       "       inq.last.6mths  delinq.2yrs      pub.rec  not.fully.paid  \n",
       "count     9042.000000  9042.000000  9042.000000     9042.000000  \n",
       "mean         1.575868     0.164897     0.062707        0.159478  \n",
       "std          2.192396     0.546594     0.263439        0.366141  \n",
       "min          0.000000     0.000000     0.000000        0.000000  \n",
       "25%          0.000000     0.000000     0.000000        0.000000  \n",
       "50%          1.000000     0.000000     0.000000        0.000000  \n",
       "75%          2.000000     0.000000     0.000000        0.000000  \n",
       "max         33.000000    13.000000     5.000000        1.000000  "
      ]
     },
     "execution_count": 10,
     "metadata": {},
     "output_type": "execute_result"
    }
   ],
   "source": [
    "loans.describe()"
   ]
  },
  {
   "cell_type": "markdown",
   "metadata": {},
   "source": [
    "** Creating a heatmap of correlation between all the columns of loan dataset"
   ]
  },
  {
   "cell_type": "code",
   "execution_count": 11,
   "metadata": {
    "scrolled": false
   },
   "outputs": [
    {
     "data": {
      "text/plain": [
       "<matplotlib.axes._subplots.AxesSubplot at 0x29e3f9667f0>"
      ]
     },
     "execution_count": 11,
     "metadata": {},
     "output_type": "execute_result"
    },
    {
     "data": {
      "image/png": "[encoded data removed]",
      "text/plain": [
       "<Figure size 1008x504 with 2 Axes>"
      ]
     },
     "metadata": {
      "needs_background": "light"
     },
     "output_type": "display_data"
    }
   ],
   "source": [
    "plt.figure(figsize=(14,7))\n",
    "sns.heatmap(loans.corr(),annot=True,cmap='inferno',linewidths=1)"
   ]
  },
  {
   "cell_type": "markdown",
   "metadata": {},
   "source": [
    "** Creating a histogram of two FICO distributions on top of each other, one for each credit.policy outcome.**\n",
    "\n"
   ]
  },
  {
   "cell_type": "code",
   "execution_count": 12,
   "metadata": {
    "scrolled": false
   },
   "outputs": [
    {
     "data": {
      "text/plain": [
       "<matplotlib.legend.Legend at 0x29e41aaaef0>"
      ]
     },
     "execution_count": 12,
     "metadata": {},
     "output_type": "execute_result"
    },
    {
     "data": {
      "image/png": "[encoded data removed]",
      "text/plain": [
       "<Figure size 720x432 with 1 Axes>"
      ]
     },
     "metadata": {
      "needs_background": "light"
     },
     "output_type": "display_data"
    }
   ],
   "source": [
    "plt.figure(figsize=(10,6))\n",
    "loans[loans['credit.policy']==1]['fico'].hist(bins=45,color='blue',label='C.P - 1',alpha=0.6)\n",
    "loans[loans['credit.policy']==0]['fico'].hist(bins=45,color='red',label='C.P - 0',alpha=0.6)\n",
    "plt.xlabel(\"FICO\")\n",
    "plt.legend()"
   ]
  },
  {
   "cell_type": "markdown",
   "metadata": {},
   "source": [
    "** Creating a histogram of two FICO distributions on top of each other, one for each No Fully Paid outcome.**\n",
    "\n"
   ]
  },
  {
   "cell_type": "code",
   "execution_count": 13,
   "metadata": {},
   "outputs": [
    {
     "data": {
      "text/plain": [
       "<matplotlib.legend.Legend at 0x29e41b55c18>"
      ]
     },
     "execution_count": 13,
     "metadata": {},
     "output_type": "execute_result"
    },
    {
     "data": {
      "image/png": "[encoded data removed]",
      "text/plain": [
       "<Figure size 720x432 with 1 Axes>"
      ]
     },
     "metadata": {
      "needs_background": "light"
     },
     "output_type": "display_data"
    }
   ],
   "source": [
    "plt.figure(figsize=(10,6))\n",
    "loans[loans['not.fully.paid']==1]['fico'].hist(bins=45,color='blue',label='No Fully paid = 1',alpha=0.6)\n",
    "loans[loans['not.fully.paid']==0]['fico'].hist(bins=45,color='red',label='No Fully paid = 0',alpha=0.6)\n",
    "\n",
    "plt.xlabel(\"FICO\")\n",
    "plt.legend()"
   ]
  },
  {
   "cell_type": "markdown",
   "metadata": {},
   "source": [
    "** Creating a countplot using seaborn showing the counts of loans by purpose, with the hue of not.fully.paid. ** "
   ]
  },
  {
   "cell_type": "code",
   "execution_count": 14,
   "metadata": {},
   "outputs": [
    {
     "data": {
      "text/plain": [
       "Text(0, 0.5, 'Count of not.fully.paid')"
      ]
     },
     "execution_count": 14,
     "metadata": {},
     "output_type": "execute_result"
    },
    {
     "data": {
      "image/png": "[encoded data removed]",
      "text/plain": [
       "<Figure size 864x360 with 1 Axes>"
      ]
     },
     "metadata": {
      "needs_background": "light"
     },
     "output_type": "display_data"
    }
   ],
   "source": [
    "plt.figure(figsize=(12,5))\n",
    "sns.countplot(x='purpose',hue=\"not.fully.paid\",data=loans,palette='Set1')\n",
    "plt.ylabel(\"Count of not.fully.paid\")"
   ]
  },
  {
   "cell_type": "markdown",
   "metadata": {},
   "source": [
    "** Let's see the trend between FICO score and interest rate. using lmplot **"
   ]
  },
  {
   "cell_type": "code",
   "execution_count": 15,
   "metadata": {
    "scrolled": false
   },
   "outputs": [
    {
     "data": {
      "text/plain": [
       "<seaborn.axisgrid.FacetGrid at 0x29e42152710>"
      ]
     },
     "execution_count": 15,
     "metadata": {},
     "output_type": "execute_result"
    },
    {
     "data": {
      "image/png": "[encoded data removed]",
      "text/plain": [
       "<Figure size 645.5x576 with 1 Axes>"
      ]
     },
     "metadata": {
      "needs_background": "light"
     },
     "output_type": "display_data"
    }
   ],
   "source": [
    "sns.lmplot(x='fico',y='int.rate',data=loans,hue='credit.policy',height=8)"
   ]
  },
  {
   "cell_type": "code",
   "execution_count": 16,
   "metadata": {},
   "outputs": [
    {
     "data": {
      "text/plain": [
       "<matplotlib.axes._subplots.AxesSubplot at 0x29e41f995c0>"
      ]
     },
     "execution_count": 16,
     "metadata": {},
     "output_type": "execute_result"
    },
    {
     "data": {
      "image/png": "[encoded data removed]",
      "text/plain": [
       "<Figure size 432x288 with 1 Axes>"
      ]
     },
     "metadata": {
      "needs_background": "light"
     },
     "output_type": "display_data"
    }
   ],
   "source": [
    "sns.countplot(loans['not.fully.paid'])"
   ]
  },
  {
   "cell_type": "markdown",
   "metadata": {},
   "source": [
    "### Preprocessing\n",
    "- Dealing with missing values"
   ]
  },
  {
   "cell_type": "code",
   "execution_count": 17,
   "metadata": {},
   "outputs": [
    {
     "data": {
      "text/plain": [
       "<matplotlib.axes._subplots.AxesSubplot at 0x29e42013978>"
      ]
     },
     "execution_count": 17,
     "metadata": {},
     "output_type": "execute_result"
    },
    {
     "data": {
      "image/png": "[encoded data removed]",
      "text/plain": [
       "<Figure size 432x288 with 2 Axes>"
      ]
     },
     "metadata": {
      "needs_background": "light"
     },
     "output_type": "display_data"
    }
   ],
   "source": [
    "sns.heatmap(loans.isna())"
   ]
  },
  {
   "cell_type": "code",
   "execution_count": 18,
   "metadata": {},
   "outputs": [
    {
     "data": {
      "text/html": [
       "<div>\n",
       "<style scoped>\n",
       "    .dataframe tbody tr th:only-of-type {\n",
       "        vertical-align: middle;\n",
       "    }\n",
       "\n",
       "    .dataframe tbody tr th {\n",
       "        vertical-align: top;\n",
       "    }\n",
       "\n",
       "    .dataframe thead th {\n",
       "        text-align: right;\n",
       "    }\n",
       "</style>\n",
       "<table border=\"1\" class=\"dataframe\">\n",
       "  <thead>\n",
       "    <tr style=\"text-align: right;\">\n",
       "      <th></th>\n",
       "      <th>null_percent</th>\n",
       "    </tr>\n",
       "  </thead>\n",
       "  <tbody>\n",
       "    <tr>\n",
       "      <th>credit.policy</th>\n",
       "      <td>5.6</td>\n",
       "    </tr>\n",
       "    <tr>\n",
       "      <th>purpose</th>\n",
       "      <td>5.6</td>\n",
       "    </tr>\n",
       "    <tr>\n",
       "      <th>int.rate</th>\n",
       "      <td>5.6</td>\n",
       "    </tr>\n",
       "    <tr>\n",
       "      <th>installment</th>\n",
       "      <td>5.6</td>\n",
       "    </tr>\n",
       "    <tr>\n",
       "      <th>log.annual.inc</th>\n",
       "      <td>5.6</td>\n",
       "    </tr>\n",
       "    <tr>\n",
       "      <th>dti</th>\n",
       "      <td>5.6</td>\n",
       "    </tr>\n",
       "    <tr>\n",
       "      <th>fico</th>\n",
       "      <td>5.6</td>\n",
       "    </tr>\n",
       "    <tr>\n",
       "      <th>days.with.cr.line</th>\n",
       "      <td>5.6</td>\n",
       "    </tr>\n",
       "    <tr>\n",
       "      <th>revol.bal</th>\n",
       "      <td>5.6</td>\n",
       "    </tr>\n",
       "    <tr>\n",
       "      <th>revol.util</th>\n",
       "      <td>5.6</td>\n",
       "    </tr>\n",
       "    <tr>\n",
       "      <th>inq.last.6mths</th>\n",
       "      <td>5.6</td>\n",
       "    </tr>\n",
       "    <tr>\n",
       "      <th>delinq.2yrs</th>\n",
       "      <td>5.6</td>\n",
       "    </tr>\n",
       "    <tr>\n",
       "      <th>pub.rec</th>\n",
       "      <td>5.6</td>\n",
       "    </tr>\n",
       "    <tr>\n",
       "      <th>not.fully.paid</th>\n",
       "      <td>5.6</td>\n",
       "    </tr>\n",
       "  </tbody>\n",
       "</table>\n",
       "</div>"
      ],
      "text/plain": [
       "                   null_percent\n",
       "credit.policy               5.6\n",
       "purpose                     5.6\n",
       "int.rate                    5.6\n",
       "installment                 5.6\n",
       "log.annual.inc              5.6\n",
       "dti                         5.6\n",
       "fico                        5.6\n",
       "days.with.cr.line           5.6\n",
       "revol.bal                   5.6\n",
       "revol.util                  5.6\n",
       "inq.last.6mths              5.6\n",
       "delinq.2yrs                 5.6\n",
       "pub.rec                     5.6\n",
       "not.fully.paid              5.6"
      ]
     },
     "execution_count": 18,
     "metadata": {},
     "output_type": "execute_result"
    }
   ],
   "source": [
    "null_percentage(loans)"
   ]
  },
  {
   "cell_type": "code",
   "execution_count": 19,
   "metadata": {},
   "outputs": [
    {
     "data": {
      "text/html": [
       "<div>\n",
       "<style scoped>\n",
       "    .dataframe tbody tr th:only-of-type {\n",
       "        vertical-align: middle;\n",
       "    }\n",
       "\n",
       "    .dataframe tbody tr th {\n",
       "        vertical-align: top;\n",
       "    }\n",
       "\n",
       "    .dataframe thead th {\n",
       "        text-align: right;\n",
       "    }\n",
       "</style>\n",
       "<table border=\"1\" class=\"dataframe\">\n",
       "  <thead>\n",
       "    <tr style=\"text-align: right;\">\n",
       "      <th></th>\n",
       "      <th>null_percent</th>\n",
       "    </tr>\n",
       "  </thead>\n",
       "  <tbody>\n",
       "  </tbody>\n",
       "</table>\n",
       "</div>"
      ],
      "text/plain": [
       "Empty DataFrame\n",
       "Columns: [null_percent]\n",
       "Index: []"
      ]
     },
     "execution_count": 19,
     "metadata": {},
     "output_type": "execute_result"
    }
   ],
   "source": [
    "loans.dropna(inplace=True)\n",
    "null_percentage(loans)"
   ]
  },
  {
   "cell_type": "markdown",
   "metadata": {},
   "source": [
    "- Treating Skewness"
   ]
  },
  {
   "cell_type": "code",
   "execution_count": 20,
   "metadata": {},
   "outputs": [
    {
     "data": {
      "text/plain": [
       "credit.policy        -1.537383\n",
       "int.rate              0.156043\n",
       "installment           0.906445\n",
       "log.annual.inc        0.021372\n",
       "dti                   0.020196\n",
       "fico                  0.474716\n",
       "days.with.cr.line     1.162118\n",
       "revol.bal            11.327828\n",
       "revol.util            0.062014\n",
       "inq.last.6mths        3.607234\n",
       "delinq.2yrs           6.052588\n",
       "pub.rec               5.135853\n",
       "not.fully.paid        1.860468\n",
       "dtype: float64"
      ]
     },
     "execution_count": 20,
     "metadata": {},
     "output_type": "execute_result"
    }
   ],
   "source": [
    "loans.skew()"
   ]
  },
  {
   "cell_type": "code",
   "execution_count": 21,
   "metadata": {},
   "outputs": [
    {
     "data": {
      "image/png": "[encoded data removed]",
      "text/plain": [
       "<Figure size 432x288 with 1 Axes>"
      ]
     },
     "metadata": {
      "needs_background": "light"
     },
     "output_type": "display_data"
    }
   ],
   "source": [
    "loans['revol.bal'].hist()\n",
    "plt.title('revol.bal')\n",
    "plt.show()"
   ]
  },
  {
   "cell_type": "code",
   "execution_count": 22,
   "metadata": {},
   "outputs": [],
   "source": [
    "loans['revol.bal'] = np.log1p(loans['revol.bal'])"
   ]
  },
  {
   "cell_type": "code",
   "execution_count": 23,
   "metadata": {},
   "outputs": [
    {
     "data": {
      "image/png": "[encoded data removed]",
      "text/plain": [
       "<Figure size 432x288 with 1 Axes>"
      ]
     },
     "metadata": {
      "needs_background": "light"
     },
     "output_type": "display_data"
    }
   ],
   "source": [
    "loans['revol.bal'].hist()\n",
    "plt.title('revol.bal')\n",
    "plt.show()"
   ]
  },
  {
   "cell_type": "markdown",
   "metadata": {},
   "source": [
    "- Now converting Caterigorical columns\n",
    "\n",
    "By creating Dummy Variables and Mapping"
   ]
  },
  {
   "cell_type": "code",
   "execution_count": 24,
   "metadata": {},
   "outputs": [
    {
     "data": {
      "text/html": [
       "<div>\n",
       "<style scoped>\n",
       "    .dataframe tbody tr th:only-of-type {\n",
       "        vertical-align: middle;\n",
       "    }\n",
       "\n",
       "    .dataframe tbody tr th {\n",
       "        vertical-align: top;\n",
       "    }\n",
       "\n",
       "    .dataframe thead th {\n",
       "        text-align: right;\n",
       "    }\n",
       "</style>\n",
       "<table border=\"1\" class=\"dataframe\">\n",
       "  <thead>\n",
       "    <tr style=\"text-align: right;\">\n",
       "      <th></th>\n",
       "      <th>Categories Counts</th>\n",
       "    </tr>\n",
       "  </thead>\n",
       "  <tbody>\n",
       "    <tr>\n",
       "      <th>purpose</th>\n",
       "      <td>7</td>\n",
       "    </tr>\n",
       "  </tbody>\n",
       "</table>\n",
       "</div>"
      ],
      "text/plain": [
       "         Categories Counts\n",
       "purpose                  7"
      ]
     },
     "execution_count": 24,
     "metadata": {},
     "output_type": "execute_result"
    }
   ],
   "source": [
    "cat_count(loans)"
   ]
  },
  {
   "cell_type": "code",
   "execution_count": 25,
   "metadata": {},
   "outputs": [
    {
     "data": {
      "text/plain": [
       "debt_consolidation    3748\n",
       "all_other             2194\n",
       "credit_card           1192\n",
       "home_improvement       589\n",
       "small_business         582\n",
       "major_purchase         413\n",
       "educational            324\n",
       "Name: purpose, dtype: int64"
      ]
     },
     "execution_count": 25,
     "metadata": {},
     "output_type": "execute_result"
    }
   ],
   "source": [
    "loans['purpose'].value_counts()"
   ]
  },
  {
   "cell_type": "code",
   "execution_count": 26,
   "metadata": {},
   "outputs": [
    {
     "data": {
      "text/html": [
       "<div>\n",
       "<style scoped>\n",
       "    .dataframe tbody tr th:only-of-type {\n",
       "        vertical-align: middle;\n",
       "    }\n",
       "\n",
       "    .dataframe tbody tr th {\n",
       "        vertical-align: top;\n",
       "    }\n",
       "\n",
       "    .dataframe thead th {\n",
       "        text-align: right;\n",
       "    }\n",
       "</style>\n",
       "<table border=\"1\" class=\"dataframe\">\n",
       "  <thead>\n",
       "    <tr style=\"text-align: right;\">\n",
       "      <th></th>\n",
       "      <th>Categories Counts</th>\n",
       "    </tr>\n",
       "  </thead>\n",
       "  <tbody>\n",
       "  </tbody>\n",
       "</table>\n",
       "</div>"
      ],
      "text/plain": [
       "Empty DataFrame\n",
       "Columns: [Categories Counts]\n",
       "Index: []"
      ]
     },
     "execution_count": 26,
     "metadata": {},
     "output_type": "execute_result"
    }
   ],
   "source": [
    "loans = dummy_variables(loans,['purpose'])\n",
    "cat_count(loans)"
   ]
  },
  {
   "cell_type": "markdown",
   "metadata": {},
   "source": [
    "- Undersampling"
   ]
  },
  {
   "cell_type": "code",
   "execution_count": 27,
   "metadata": {},
   "outputs": [],
   "source": [
    "# separating classes into different datasets\n",
    "\n",
    "paid_class = loans[loans[\"not.fully.paid\"] == 0]\n",
    "not_paid_class = loans[loans[\"not.fully.paid\"] == 1]"
   ]
  },
  {
   "cell_type": "code",
   "execution_count": 28,
   "metadata": {},
   "outputs": [],
   "source": [
    "# Resampling the normal class into 3:1 ratio with espect to fraudulent class\n",
    "\n",
    "resampled_paid_class = paid_class.sample(n=int(len(not_paid_class)*1), random_state=1210)"
   ]
  },
  {
   "cell_type": "code",
   "execution_count": 29,
   "metadata": {},
   "outputs": [],
   "source": [
    "# Concatenating the both classes in a single dataframe.\n",
    "\n",
    "loans = pd.concat([not_paid_class,resampled_paid_class])"
   ]
  },
  {
   "cell_type": "code",
   "execution_count": 30,
   "metadata": {},
   "outputs": [
    {
     "data": {
      "text/plain": [
       "<matplotlib.axes._subplots.AxesSubplot at 0x29e433c7dd8>"
      ]
     },
     "execution_count": 30,
     "metadata": {},
     "output_type": "execute_result"
    },
    {
     "data": {
      "image/png": "[encoded data removed]",
      "text/plain": [
       "<Figure size 432x288 with 1 Axes>"
      ]
     },
     "metadata": {
      "needs_background": "light"
     },
     "output_type": "display_data"
    }
   ],
   "source": [
    "sns.countplot(loans['not.fully.paid'])"
   ]
  },
  {
   "cell_type": "markdown",
   "metadata": {},
   "source": [
    "- Scaling"
   ]
  },
  {
   "cell_type": "code",
   "execution_count": 31,
   "metadata": {},
   "outputs": [],
   "source": [
    "from sklearn.preprocessing import StandardScaler"
   ]
  },
  {
   "cell_type": "code",
   "execution_count": 32,
   "metadata": {},
   "outputs": [],
   "source": [
    "cols= ['int.rate', 'installment', 'log.annual.inc', 'dti',\n",
    "       'fico', 'days.with.cr.line', 'revol.bal', 'revol.util',\n",
    "       'inq.last.6mths', 'delinq.2yrs', 'pub.rec']\n",
    "\n",
    "scaled_df = StandardScaler().fit_transform(loans[cols])"
   ]
  },
  {
   "cell_type": "code",
   "execution_count": 33,
   "metadata": {},
   "outputs": [],
   "source": [
    "scaled_df = (pd.DataFrame(data=scaled_df, columns=cols)).reset_index()\n",
    "scaled_df.drop('index',axis=1,inplace=True)"
   ]
  },
  {
   "cell_type": "code",
   "execution_count": 34,
   "metadata": {},
   "outputs": [],
   "source": [
    "loans = loans.reset_index()\n",
    "\n",
    "loans.drop('index',axis=1,inplace=True)"
   ]
  },
  {
   "cell_type": "code",
   "execution_count": 35,
   "metadata": {},
   "outputs": [],
   "source": [
    "for col in cols:\n",
    "    loans[col] = scaled_df[col]\n",
    "    "
   ]
  },
  {
   "cell_type": "markdown",
   "metadata": {},
   "source": [
    "### Splitting the data into train and test.\n",
    "\n",
    "Now its time to split the data into a training set and a testing set!\n",
    "\n",
    "** Using sklearn to split data into a training set and a testing set.**"
   ]
  },
  {
   "cell_type": "code",
   "execution_count": 36,
   "metadata": {},
   "outputs": [],
   "source": [
    "from sklearn.model_selection import train_test_split"
   ]
  },
  {
   "cell_type": "code",
   "execution_count": 37,
   "metadata": {},
   "outputs": [],
   "source": [
    "X = loans.drop('not.fully.paid',axis=1)\n",
    "y = loans['not.fully.paid']\n",
    "\n",
    "X_train, X_test, y_train, y_test = train_test_split(X, y, test_size=0.30, random_state=10)"
   ]
  },
  {
   "cell_type": "code",
   "execution_count": 38,
   "metadata": {},
   "outputs": [
    {
     "name": "stdout",
     "output_type": "stream",
     "text": [
      "No of features after preprocessing:  19\n"
     ]
    }
   ],
   "source": [
    "print(\"No of features after preprocessing: \",X.shape[1])"
   ]
  },
  {
   "cell_type": "markdown",
   "metadata": {},
   "source": [
    "### Classification Task:\n",
    "- Apply two voting classifiers - one with hard voting and one with soft voting\n",
    "- Apply any two models with bagging and any two models with pasting.\n",
    "- Apply any two models with AdaBoost boosting\n",
    "- Apply one model with gradient boosting\n",
    "- Apply PCA on data and then apply all the models in project 1 again on data you get from PCA. Compare your results with results in project 1. You don't need to apply all the models twice. Just copy the result table from project 1, prepare a similar table for all the models after PCA and compare both tables. Does PCA help in getting better results?\n",
    "- Apply deep learning models covered in class\n"
   ]
  },
  {
   "cell_type": "markdown",
   "metadata": {},
   "source": [
    "# Voting Classifier\n",
    "- Soft Voting"
   ]
  },
  {
   "cell_type": "code",
   "execution_count": 39,
   "metadata": {},
   "outputs": [],
   "source": [
    "from sklearn.neighbors import KNeighborsClassifier\n",
    "from sklearn.ensemble import VotingClassifier\n",
    "from sklearn.linear_model import LogisticRegression\n",
    "from sklearn.svm import SVC"
   ]
  },
  {
   "cell_type": "code",
   "execution_count": 40,
   "metadata": {},
   "outputs": [
    {
     "name": "stdout",
     "output_type": "stream",
     "text": [
      "LogisticRegression 0.6096997690531177\n",
      "KNeighborsClassifier 0.5496535796766744\n",
      "SVC 0.6073903002309469\n",
      "VotingClassifier 0.5981524249422633\n"
     ]
    }
   ],
   "source": [
    "log_clf = LogisticRegression()\n",
    "log_clf.fit(X_train, y_train)\n",
    "knn_clf = KNeighborsClassifier(7)\n",
    "knn_clf.fit(X_train, y_train)\n",
    "svm_clf = SVC(C = 10, probability = True)\n",
    "svm_clf.fit(X_train, y_train)\n",
    "\n",
    "voting_clf = VotingClassifier(estimators=[('lr', log_clf), ('knn', knn_clf), ('svc', svm_clf)], voting='soft')\n",
    "voting_clf.fit(X_train, y_train)\n",
    "\n",
    "from sklearn.metrics import accuracy_score\n",
    "for clf in (log_clf, knn_clf, svm_clf, voting_clf):\n",
    "    clf.fit(X_train, y_train)\n",
    "    y_pred = clf.predict(X_test)\n",
    "    print(clf.__class__.__name__, accuracy_score(y_test, y_pred))"
   ]
  },
  {
   "cell_type": "code",
   "execution_count": 41,
   "metadata": {},
   "outputs": [],
   "source": [
    "predictions = voting_clf.predict(X_test)"
   ]
  },
  {
   "cell_type": "code",
   "execution_count": 42,
   "metadata": {},
   "outputs": [
    {
     "name": "stdout",
     "output_type": "stream",
     "text": [
      "CLASSIFICATION REPORT:\n",
      "\n",
      "              precision    recall  f1-score   support\n",
      "\n",
      "         0.0       0.57      0.67      0.62       422\n",
      "         1.0       0.63      0.53      0.57       444\n",
      "\n",
      "   micro avg       0.60      0.60      0.60       866\n",
      "   macro avg       0.60      0.60      0.60       866\n",
      "weighted avg       0.60      0.60      0.60       866\n",
      "\n",
      "\n",
      "CONFUSION MATRIX:\n",
      "[[284 138]\n",
      " [210 234]]\n",
      "\n",
      "F-1 Score:  0.5735294117647058\n"
     ]
    }
   ],
   "source": [
    "print(\"CLASSIFICATION REPORT:\\n\")\n",
    "print(classification_report(y_test,predictions))\n",
    "\n",
    "print(\"\\nCONFUSION MATRIX:\")\n",
    "print(confusion_matrix(y_test,predictions))\n",
    "\n",
    "print(\"\\nF-1 Score: \",f1_score(y_test,predictions))\n",
    "\n",
    "f1_scores_new = {}\n",
    "f1_scores_new[\"Voting Classifier (soft)\"] = f1_score(y_test,predictions)"
   ]
  },
  {
   "cell_type": "markdown",
   "metadata": {},
   "source": [
    "- Hard Voting"
   ]
  },
  {
   "cell_type": "code",
   "execution_count": 43,
   "metadata": {},
   "outputs": [
    {
     "name": "stdout",
     "output_type": "stream",
     "text": [
      "LogisticRegression 0.6096997690531177\n",
      "KNeighborsClassifier 0.5496535796766744\n",
      "SVC 0.6073903002309469\n",
      "VotingClassifier 0.605080831408776\n"
     ]
    }
   ],
   "source": [
    "log_clf = LogisticRegression()\n",
    "log_clf.fit(X_train, y_train)\n",
    "knn_clf = KNeighborsClassifier(7)\n",
    "knn_clf.fit(X_train, y_train)\n",
    "svm_clf = SVC(C = 10, probability = True)\n",
    "svm_clf.fit(X_train, y_train)\n",
    "\n",
    "voting_clf = VotingClassifier(estimators=[('lr', log_clf), ('knn', knn_clf), ('svc', svm_clf)], voting='hard')\n",
    "voting_clf.fit(X_train, y_train)\n",
    "\n",
    "from sklearn.metrics import accuracy_score\n",
    "for clf in (log_clf, knn_clf, svm_clf, voting_clf):\n",
    "    clf.fit(X_train, y_train)\n",
    "    y_pred = clf.predict(X_test)\n",
    "    print(clf.__class__.__name__, accuracy_score(y_test, y_pred))"
   ]
  },
  {
   "cell_type": "code",
   "execution_count": 44,
   "metadata": {},
   "outputs": [],
   "source": [
    "predictions = voting_clf.predict(X_test)"
   ]
  },
  {
   "cell_type": "code",
   "execution_count": 45,
   "metadata": {},
   "outputs": [
    {
     "name": "stdout",
     "output_type": "stream",
     "text": [
      "CLASSIFICATION REPORT:\n",
      "\n",
      "              precision    recall  f1-score   support\n",
      "\n",
      "         0.0       0.58      0.69      0.63       422\n",
      "         1.0       0.64      0.53      0.58       444\n",
      "\n",
      "   micro avg       0.61      0.61      0.61       866\n",
      "   macro avg       0.61      0.61      0.60       866\n",
      "weighted avg       0.61      0.61      0.60       866\n",
      "\n",
      "\n",
      "CONFUSION MATRIX:\n",
      "[[290 132]\n",
      " [210 234]]\n",
      "\n",
      "F-1 Score:  0.5777777777777778\n"
     ]
    }
   ],
   "source": [
    "print(\"CLASSIFICATION REPORT:\\n\")\n",
    "print(classification_report(y_test,predictions))\n",
    "\n",
    "print(\"\\nCONFUSION MATRIX:\")\n",
    "print(confusion_matrix(y_test,predictions))\n",
    "\n",
    "print(\"\\nF-1 Score: \",f1_score(y_test,predictions))\n",
    "\n",
    "f1_scores_new[\"Voting Classifier (Hard)\"] = f1_score(y_test,predictions)"
   ]
  },
  {
   "cell_type": "markdown",
   "metadata": {},
   "source": [
    "# Bagging "
   ]
  },
  {
   "cell_type": "markdown",
   "metadata": {},
   "source": [
    "- Bagging With Decision Tree Classifier"
   ]
  },
  {
   "cell_type": "code",
   "execution_count": 46,
   "metadata": {},
   "outputs": [],
   "source": [
    "from sklearn.ensemble import BaggingClassifier\n",
    "from sklearn.tree import DecisionTreeClassifier\n"
   ]
  },
  {
   "cell_type": "code",
   "execution_count": 47,
   "metadata": {},
   "outputs": [
    {
     "data": {
      "text/plain": [
       "BaggingClassifier(base_estimator=DecisionTreeClassifier(class_weight=None, criterion='gini', max_depth=10,\n",
       "            max_features=None, max_leaf_nodes=None,\n",
       "            min_impurity_decrease=0.0, min_impurity_split=None,\n",
       "            min_samples_leaf=0.1, min_samples_split=0.4,\n",
       "            min_weight_fraction_leaf=0.0, presort=False, random_state=1210,\n",
       "            splitter='best'),\n",
       "         bootstrap=True, bootstrap_features=False, max_features=1.0,\n",
       "         max_samples=100, n_estimators=500, n_jobs=None, oob_score=False,\n",
       "         random_state=0, verbose=0, warm_start=False)"
      ]
     },
     "execution_count": 47,
     "metadata": {},
     "output_type": "execute_result"
    }
   ],
   "source": [
    "dt_clf = DecisionTreeClassifier(max_depth=10, min_samples_leaf=0.1,min_samples_split=0.4,random_state=1210)\n",
    "bag_clf = BaggingClassifier(dt_clf, n_estimators=500, max_samples=100, bootstrap=True, random_state=0)\n",
    "\n",
    "bag_clf.fit(X_train, y_train)\n"
   ]
  },
  {
   "cell_type": "code",
   "execution_count": 48,
   "metadata": {},
   "outputs": [],
   "source": [
    "predictions = bag_clf.predict(X_test)"
   ]
  },
  {
   "cell_type": "code",
   "execution_count": 49,
   "metadata": {},
   "outputs": [
    {
     "name": "stdout",
     "output_type": "stream",
     "text": [
      "CLASSIFICATION REPORT:\n",
      "\n",
      "              precision    recall  f1-score   support\n",
      "\n",
      "         0.0       0.49      1.00      0.66       422\n",
      "         1.0       0.00      0.00      0.00       444\n",
      "\n",
      "   micro avg       0.49      0.49      0.49       866\n",
      "   macro avg       0.24      0.50      0.33       866\n",
      "weighted avg       0.24      0.49      0.32       866\n",
      "\n",
      "\n",
      "CONFUSION MATRIX:\n",
      "[[422   0]\n",
      " [444   0]]\n",
      "\n",
      "F-1 Score:  0.0\n"
     ]
    }
   ],
   "source": [
    "print(\"CLASSIFICATION REPORT:\\n\")\n",
    "print(classification_report(y_test,predictions))\n",
    "\n",
    "print(\"\\nCONFUSION MATRIX:\")\n",
    "print(confusion_matrix(y_test,predictions))\n",
    "\n",
    "print(\"\\nF-1 Score: \",f1_score(y_test,predictions))\n",
    "\n",
    "f1_scores_new[\"Decision Tree (Bagging)\"] = f1_score(y_test,predictions)"
   ]
  },
  {
   "cell_type": "markdown",
   "metadata": {},
   "source": [
    "- Bagging With Random Forest Classifier"
   ]
  },
  {
   "cell_type": "code",
   "execution_count": 50,
   "metadata": {},
   "outputs": [],
   "source": [
    "from sklearn.ensemble import RandomForestClassifier"
   ]
  },
  {
   "cell_type": "code",
   "execution_count": 51,
   "metadata": {},
   "outputs": [
    {
     "data": {
      "text/plain": [
       "BaggingClassifier(base_estimator=RandomForestClassifier(bootstrap=True, class_weight=None, criterion='gini',\n",
       "            max_depth=10, max_features='auto', max_leaf_nodes=None,\n",
       "            min_impurity_decrease=0.0, min_impurity_split=None,\n",
       "            min_samples_leaf=2, min_samples_split=10,\n",
       "            min_weight_fraction_leaf=0.0, n_estimators=200, n_jobs=None,\n",
       "            oob_score=False, random_state=1210, verbose=0,\n",
       "            warm_start=False),\n",
       "         bootstrap=True, bootstrap_features=False, max_features=1.0,\n",
       "         max_samples=100, n_estimators=500, n_jobs=None, oob_score=False,\n",
       "         random_state=0, verbose=0, warm_start=False)"
      ]
     },
     "execution_count": 51,
     "metadata": {},
     "output_type": "execute_result"
    }
   ],
   "source": [
    "rf_clf = RandomForestClassifier(bootstrap=True,\n",
    "                             max_depth=10,\n",
    "                             max_features='auto',\n",
    "                             min_samples_leaf=2,\n",
    "                             min_samples_split=10,\n",
    "                             n_estimators=200,\n",
    "                             random_state=1210)\n",
    "\n",
    "bag_clf = BaggingClassifier(rf_clf, n_estimators=500, max_samples=100, bootstrap=True, random_state=0)\n",
    "\n",
    "bag_clf.fit(X_train, y_train)"
   ]
  },
  {
   "cell_type": "code",
   "execution_count": 52,
   "metadata": {},
   "outputs": [],
   "source": [
    "predictions = bag_clf.predict(X_test)"
   ]
  },
  {
   "cell_type": "code",
   "execution_count": 53,
   "metadata": {},
   "outputs": [
    {
     "name": "stdout",
     "output_type": "stream",
     "text": [
      "CLASSIFICATION REPORT:\n",
      "\n",
      "              precision    recall  f1-score   support\n",
      "\n",
      "         0.0       0.59      0.62      0.61       422\n",
      "         1.0       0.62      0.59      0.61       444\n",
      "\n",
      "   micro avg       0.61      0.61      0.61       866\n",
      "   macro avg       0.61      0.61      0.61       866\n",
      "weighted avg       0.61      0.61      0.61       866\n",
      "\n",
      "\n",
      "CONFUSION MATRIX:\n",
      "[[262 160]\n",
      " [181 263]]\n",
      "\n",
      "F-1 Score:  0.6066897347174163\n"
     ]
    }
   ],
   "source": [
    "print(\"CLASSIFICATION REPORT:\\n\")\n",
    "print(classification_report(y_test,predictions))\n",
    "\n",
    "print(\"\\nCONFUSION MATRIX:\")\n",
    "print(confusion_matrix(y_test,predictions))\n",
    "\n",
    "print(\"\\nF-1 Score: \",f1_score(y_test,predictions))\n",
    "f1_scores_new[\"Random Forest (Bagging)\"] = f1_score(y_test,predictions)"
   ]
  },
  {
   "cell_type": "markdown",
   "metadata": {},
   "source": [
    "# Pasting"
   ]
  },
  {
   "cell_type": "markdown",
   "metadata": {},
   "source": [
    "- Pasting With Logistic Regression"
   ]
  },
  {
   "cell_type": "code",
   "execution_count": 54,
   "metadata": {},
   "outputs": [],
   "source": [
    "from sklearn.ensemble import BaggingClassifier\n",
    "from sklearn.linear_model import LogisticRegression\n"
   ]
  },
  {
   "cell_type": "code",
   "execution_count": 55,
   "metadata": {},
   "outputs": [
    {
     "data": {
      "text/plain": [
       "BaggingClassifier(base_estimator=LogisticRegression(C=1.0, class_weight=None, dual=False, fit_intercept=True,\n",
       "          intercept_scaling=1, max_iter=100, multi_class='warn',\n",
       "          n_jobs=None, penalty='l2', random_state=0, solver='warn',\n",
       "          tol=0.0001, verbose=0, warm_start=False),\n",
       "         bootstrap=False, bootstrap_features=False, max_features=1.0,\n",
       "         max_samples=1.0, n_estimators=10, n_jobs=None, oob_score=False,\n",
       "         random_state=0, verbose=0, warm_start=False)"
      ]
     },
     "execution_count": 55,
     "metadata": {},
     "output_type": "execute_result"
    }
   ],
   "source": [
    "log_clf = LogisticRegression(random_state=0)\n",
    "bag_clf = BaggingClassifier(log_clf, bootstrap=False, random_state=0)\n",
    "\n",
    "bag_clf.fit(X_train, y_train)"
   ]
  },
  {
   "cell_type": "code",
   "execution_count": 56,
   "metadata": {},
   "outputs": [],
   "source": [
    "predictions = bag_clf.predict(X_test)"
   ]
  },
  {
   "cell_type": "code",
   "execution_count": 57,
   "metadata": {},
   "outputs": [
    {
     "name": "stdout",
     "output_type": "stream",
     "text": [
      "CLASSIFICATION REPORT:\n",
      "\n",
      "              precision    recall  f1-score   support\n",
      "\n",
      "         0.0       0.59      0.66      0.62       422\n",
      "         1.0       0.63      0.57      0.60       444\n",
      "\n",
      "   micro avg       0.61      0.61      0.61       866\n",
      "   macro avg       0.61      0.61      0.61       866\n",
      "weighted avg       0.61      0.61      0.61       866\n",
      "\n",
      "\n",
      "CONFUSION MATRIX:\n",
      "[[277 145]\n",
      " [193 251]]\n",
      "\n",
      "F-1 Score:  0.5976190476190476\n"
     ]
    }
   ],
   "source": [
    "print(\"CLASSIFICATION REPORT:\\n\")\n",
    "print(classification_report(y_test,predictions))\n",
    "\n",
    "print(\"\\nCONFUSION MATRIX:\")\n",
    "print(confusion_matrix(y_test,predictions))\n",
    "\n",
    "print(\"\\nF-1 Score: \",f1_score(y_test,predictions))\n",
    "f1_scores_new[\"Logistic Regression (Pasting)\"] = f1_score(y_test,predictions)"
   ]
  },
  {
   "cell_type": "markdown",
   "metadata": {},
   "source": [
    "- Pasting With Random Forest Classifier"
   ]
  },
  {
   "cell_type": "code",
   "execution_count": 58,
   "metadata": {},
   "outputs": [],
   "source": [
    "from sklearn.ensemble import RandomForestClassifier"
   ]
  },
  {
   "cell_type": "code",
   "execution_count": 59,
   "metadata": {},
   "outputs": [
    {
     "data": {
      "text/plain": [
       "BaggingClassifier(base_estimator=RandomForestClassifier(bootstrap=True, class_weight=None, criterion='gini',\n",
       "            max_depth=10, max_features='auto', max_leaf_nodes=None,\n",
       "            min_impurity_decrease=0.0, min_impurity_split=None,\n",
       "            min_samples_leaf=2, min_samples_split=10,\n",
       "            min_weight_fraction_leaf=0.0, n_estimators=200, n_jobs=None,\n",
       "            oob_score=False, random_state=1210, verbose=0,\n",
       "            warm_start=False),\n",
       "         bootstrap=False, bootstrap_features=False, max_features=1.0,\n",
       "         max_samples=100, n_estimators=500, n_jobs=None, oob_score=False,\n",
       "         random_state=0, verbose=0, warm_start=False)"
      ]
     },
     "execution_count": 59,
     "metadata": {},
     "output_type": "execute_result"
    }
   ],
   "source": [
    "rf_clf = RandomForestClassifier(bootstrap=True,\n",
    "                             max_depth=10,\n",
    "                             max_features='auto',\n",
    "                             min_samples_leaf=2,\n",
    "                             min_samples_split=10,\n",
    "                             n_estimators=200,\n",
    "                             random_state=1210)\n",
    "\n",
    "bag_clf = BaggingClassifier(rf_clf, n_estimators=500, max_samples=100, bootstrap=False, random_state=0)\n",
    "\n",
    "bag_clf.fit(X_train, y_train)"
   ]
  },
  {
   "cell_type": "code",
   "execution_count": 60,
   "metadata": {},
   "outputs": [],
   "source": [
    "predictions = bag_clf.predict(X_test)"
   ]
  },
  {
   "cell_type": "code",
   "execution_count": 61,
   "metadata": {},
   "outputs": [
    {
     "name": "stdout",
     "output_type": "stream",
     "text": [
      "CLASSIFICATION REPORT:\n",
      "\n",
      "              precision    recall  f1-score   support\n",
      "\n",
      "         0.0       0.59      0.60      0.59       422\n",
      "         1.0       0.61      0.60      0.61       444\n",
      "\n",
      "   micro avg       0.60      0.60      0.60       866\n",
      "   macro avg       0.60      0.60      0.60       866\n",
      "weighted avg       0.60      0.60      0.60       866\n",
      "\n",
      "\n",
      "CONFUSION MATRIX:\n",
      "[[254 168]\n",
      " [178 266]]\n",
      "\n",
      "F-1 Score:  0.6059225512528474\n"
     ]
    }
   ],
   "source": [
    "print(\"CLASSIFICATION REPORT:\\n\")\n",
    "print(classification_report(y_test,predictions))\n",
    "\n",
    "print(\"\\nCONFUSION MATRIX:\")\n",
    "print(confusion_matrix(y_test,predictions))\n",
    "\n",
    "print(\"\\nF-1 Score: \",f1_score(y_test,predictions))\n",
    "f1_scores_new[\"Random Forest (Pasting)\"] = f1_score(y_test,predictions)"
   ]
  },
  {
   "cell_type": "markdown",
   "metadata": {},
   "source": [
    "# Adaboost"
   ]
  },
  {
   "cell_type": "markdown",
   "metadata": {},
   "source": [
    "- Adaboost With Decision Tree Classifier"
   ]
  },
  {
   "cell_type": "code",
   "execution_count": 62,
   "metadata": {},
   "outputs": [],
   "source": [
    "from sklearn.ensemble import AdaBoostClassifier\n",
    "from sklearn.tree import DecisionTreeClassifier\n"
   ]
  },
  {
   "cell_type": "code",
   "execution_count": 63,
   "metadata": {},
   "outputs": [
    {
     "data": {
      "text/plain": [
       "AdaBoostClassifier(algorithm='SAMME.R',\n",
       "          base_estimator=DecisionTreeClassifier(class_weight=None, criterion='gini', max_depth=10,\n",
       "            max_features=None, max_leaf_nodes=None,\n",
       "            min_impurity_decrease=0.0, min_impurity_split=None,\n",
       "            min_samples_leaf=0.1, min_samples_split=0.4,\n",
       "            min_weight_fraction_leaf=0.0, presort=False, random_state=1210,\n",
       "            splitter='best'),\n",
       "          learning_rate=0.1, n_estimators=500, random_state=None)"
      ]
     },
     "execution_count": 63,
     "metadata": {},
     "output_type": "execute_result"
    }
   ],
   "source": [
    "dt_clf = DecisionTreeClassifier(max_depth=10, min_samples_leaf=0.1,min_samples_split=0.4,random_state=1210)\n",
    "ada_clf = AdaBoostClassifier(dt_clf, n_estimators= 500, learning_rate= 0.1)\n",
    "\n",
    "ada_clf.fit(X_train, y_train)"
   ]
  },
  {
   "cell_type": "code",
   "execution_count": 64,
   "metadata": {},
   "outputs": [],
   "source": [
    "predictions = ada_clf.predict(X_test)"
   ]
  },
  {
   "cell_type": "code",
   "execution_count": 65,
   "metadata": {},
   "outputs": [
    {
     "name": "stdout",
     "output_type": "stream",
     "text": [
      "CLASSIFICATION REPORT:\n",
      "\n",
      "              precision    recall  f1-score   support\n",
      "\n",
      "         0.0       0.59      0.55      0.57       422\n",
      "         1.0       0.60      0.64      0.62       444\n",
      "\n",
      "   micro avg       0.60      0.60      0.60       866\n",
      "   macro avg       0.60      0.60      0.60       866\n",
      "weighted avg       0.60      0.60      0.60       866\n",
      "\n",
      "\n",
      "CONFUSION MATRIX:\n",
      "[[232 190]\n",
      " [159 285]]\n",
      "\n",
      "F-1 Score:  0.6202393906420023\n"
     ]
    }
   ],
   "source": [
    "print(\"CLASSIFICATION REPORT:\\n\")\n",
    "print(classification_report(y_test,predictions))\n",
    "\n",
    "print(\"\\nCONFUSION MATRIX:\")\n",
    "print(confusion_matrix(y_test,predictions))\n",
    "\n",
    "print(\"\\nF-1 Score: \",f1_score(y_test,predictions))\n",
    "\n",
    "f1_scores_new[\"Decision Tree (Adaboost)\"] = f1_score(y_test,predictions)"
   ]
  },
  {
   "cell_type": "markdown",
   "metadata": {},
   "source": [
    "- Adaboost With Random Forest Classifier"
   ]
  },
  {
   "cell_type": "code",
   "execution_count": 66,
   "metadata": {},
   "outputs": [],
   "source": [
    "from sklearn.ensemble import RandomForestClassifier"
   ]
  },
  {
   "cell_type": "code",
   "execution_count": 67,
   "metadata": {},
   "outputs": [
    {
     "data": {
      "text/plain": [
       "AdaBoostClassifier(algorithm='SAMME.R',\n",
       "          base_estimator=RandomForestClassifier(bootstrap=True, class_weight=None, criterion='gini',\n",
       "            max_depth=10, max_features='auto', max_leaf_nodes=None,\n",
       "            min_impurity_decrease=0.0, min_impurity_split=None,\n",
       "            min_samples_leaf=2, min_samples_split=10,\n",
       "            min_weight_fraction_leaf=0.0, n_estimators=200, n_jobs=None,\n",
       "            oob_score=False, random_state=1210, verbose=0,\n",
       "            warm_start=False),\n",
       "          learning_rate=0.1, n_estimators=500, random_state=None)"
      ]
     },
     "execution_count": 67,
     "metadata": {},
     "output_type": "execute_result"
    }
   ],
   "source": [
    "rf_clf = RandomForestClassifier(bootstrap=True,\n",
    "                             max_depth=10,\n",
    "                             max_features='auto',\n",
    "                             min_samples_leaf=2,\n",
    "                             min_samples_split=10,\n",
    "                             n_estimators=200,\n",
    "                             random_state=1210)\n",
    "\n",
    "ada_clf = AdaBoostClassifier(rf_clf, n_estimators= 500, learning_rate= 0.1)\n",
    "\n",
    "ada_clf.fit(X_train, y_train)"
   ]
  },
  {
   "cell_type": "code",
   "execution_count": 68,
   "metadata": {},
   "outputs": [],
   "source": [
    "predictions = ada_clf.predict(X_test)"
   ]
  },
  {
   "cell_type": "code",
   "execution_count": 69,
   "metadata": {},
   "outputs": [
    {
     "name": "stdout",
     "output_type": "stream",
     "text": [
      "CLASSIFICATION REPORT:\n",
      "\n",
      "              precision    recall  f1-score   support\n",
      "\n",
      "         0.0       0.59      0.58      0.58       422\n",
      "         1.0       0.61      0.62      0.61       444\n",
      "\n",
      "   micro avg       0.60      0.60      0.60       866\n",
      "   macro avg       0.60      0.60      0.60       866\n",
      "weighted avg       0.60      0.60      0.60       866\n",
      "\n",
      "\n",
      "CONFUSION MATRIX:\n",
      "[[244 178]\n",
      " [170 274]]\n",
      "\n",
      "F-1 Score:  0.6116071428571429\n"
     ]
    }
   ],
   "source": [
    "print(\"CLASSIFICATION REPORT:\\n\")\n",
    "print(classification_report(y_test,predictions))\n",
    "\n",
    "print(\"\\nCONFUSION MATRIX:\")\n",
    "print(confusion_matrix(y_test,predictions))\n",
    "\n",
    "print(\"\\nF-1 Score: \",f1_score(y_test,predictions))\n",
    "f1_scores_new[\"Random Forest (Adaboost)\"] = f1_score(y_test,predictions)"
   ]
  },
  {
   "cell_type": "markdown",
   "metadata": {},
   "source": [
    "# Gradient Boosting"
   ]
  },
  {
   "cell_type": "markdown",
   "metadata": {},
   "source": [
    "- Gradient Boosting With Random Forest Classifier"
   ]
  },
  {
   "cell_type": "code",
   "execution_count": 70,
   "metadata": {},
   "outputs": [],
   "source": [
    "from  sklearn.ensemble import GradientBoostingClassifier\n"
   ]
  },
  {
   "cell_type": "code",
   "execution_count": 71,
   "metadata": {},
   "outputs": [
    {
     "data": {
      "text/plain": [
       "GradientBoostingClassifier(criterion='friedman_mse', init=None,\n",
       "              learning_rate=0.01, loss='deviance', max_depth=3,\n",
       "              max_features=None, max_leaf_nodes=None,\n",
       "              min_impurity_decrease=0.0, min_impurity_split=None,\n",
       "              min_samples_leaf=1, min_samples_split=2,\n",
       "              min_weight_fraction_leaf=0.0, n_estimators=500,\n",
       "              n_iter_no_change=None, presort='auto', random_state=42,\n",
       "              subsample=1.0, tol=0.0001, validation_fraction=0.1,\n",
       "              verbose=0, warm_start=False)"
      ]
     },
     "execution_count": 71,
     "metadata": {},
     "output_type": "execute_result"
    }
   ],
   "source": [
    "gbrt = GradientBoostingClassifier(max_depth=3, n_estimators=500, learning_rate=0.01, random_state=42)\n",
    "\n",
    "gbrt.fit(X_train, y_train)"
   ]
  },
  {
   "cell_type": "code",
   "execution_count": 72,
   "metadata": {},
   "outputs": [],
   "source": [
    "predictions = gbrt.predict(X_test)"
   ]
  },
  {
   "cell_type": "code",
   "execution_count": 73,
   "metadata": {},
   "outputs": [
    {
     "name": "stdout",
     "output_type": "stream",
     "text": [
      "CLASSIFICATION REPORT:\n",
      "\n",
      "              precision    recall  f1-score   support\n",
      "\n",
      "         0.0       0.60      0.62      0.61       422\n",
      "         1.0       0.63      0.60      0.61       444\n",
      "\n",
      "   micro avg       0.61      0.61      0.61       866\n",
      "   macro avg       0.61      0.61      0.61       866\n",
      "weighted avg       0.61      0.61      0.61       866\n",
      "\n",
      "\n",
      "CONFUSION MATRIX:\n",
      "[[262 160]\n",
      " [177 267]]\n",
      "\n",
      "F-1 Score:  0.6130884041331803\n"
     ]
    }
   ],
   "source": [
    "print(\"CLASSIFICATION REPORT:\\n\")\n",
    "print(classification_report(y_test,predictions))\n",
    "\n",
    "print(\"\\nCONFUSION MATRIX:\")\n",
    "print(confusion_matrix(y_test,predictions))\n",
    "\n",
    "print(\"\\nF-1 Score: \",f1_score(y_test,predictions))\n",
    "f1_scores_new[\"Gradient Boosting\"] = f1_score(y_test,predictions)"
   ]
  },
  {
   "cell_type": "markdown",
   "metadata": {},
   "source": [
    "# PCA"
   ]
  },
  {
   "cell_type": "code",
   "execution_count": 74,
   "metadata": {},
   "outputs": [],
   "source": [
    "from sklearn.decomposition import PCA"
   ]
  },
  {
   "cell_type": "code",
   "execution_count": 75,
   "metadata": {},
   "outputs": [],
   "source": [
    "from sklearn.decomposition import PCA\n",
    "pca = PCA(n_components=2)\n",
    "principalComponents = pca.fit_transform(X)\n",
    "principalDf = pd.DataFrame(data = principalComponents\n",
    "             , columns = ['principal component 1', 'principal component 2'])"
   ]
  },
  {
   "cell_type": "code",
   "execution_count": 76,
   "metadata": {},
   "outputs": [],
   "source": [
    "finalDf = pd.concat([principalDf, y], axis = 1)"
   ]
  },
  {
   "cell_type": "code",
   "execution_count": 77,
   "metadata": {},
   "outputs": [
    {
     "data": {
      "text/html": [
       "<div>\n",
       "<style scoped>\n",
       "    .dataframe tbody tr th:only-of-type {\n",
       "        vertical-align: middle;\n",
       "    }\n",
       "\n",
       "    .dataframe tbody tr th {\n",
       "        vertical-align: top;\n",
       "    }\n",
       "\n",
       "    .dataframe thead th {\n",
       "        text-align: right;\n",
       "    }\n",
       "</style>\n",
       "<table border=\"1\" class=\"dataframe\">\n",
       "  <thead>\n",
       "    <tr style=\"text-align: right;\">\n",
       "      <th></th>\n",
       "      <th>principal component 1</th>\n",
       "      <th>principal component 2</th>\n",
       "      <th>not.fully.paid</th>\n",
       "    </tr>\n",
       "  </thead>\n",
       "  <tbody>\n",
       "    <tr>\n",
       "      <th>0</th>\n",
       "      <td>-0.987381</td>\n",
       "      <td>1.564399</td>\n",
       "      <td>1.0</td>\n",
       "    </tr>\n",
       "    <tr>\n",
       "      <th>1</th>\n",
       "      <td>0.383541</td>\n",
       "      <td>-0.457098</td>\n",
       "      <td>1.0</td>\n",
       "    </tr>\n",
       "    <tr>\n",
       "      <th>2</th>\n",
       "      <td>-1.478407</td>\n",
       "      <td>-1.496520</td>\n",
       "      <td>1.0</td>\n",
       "    </tr>\n",
       "    <tr>\n",
       "      <th>3</th>\n",
       "      <td>1.057543</td>\n",
       "      <td>1.521284</td>\n",
       "      <td>1.0</td>\n",
       "    </tr>\n",
       "    <tr>\n",
       "      <th>4</th>\n",
       "      <td>-1.452508</td>\n",
       "      <td>-1.170521</td>\n",
       "      <td>1.0</td>\n",
       "    </tr>\n",
       "  </tbody>\n",
       "</table>\n",
       "</div>"
      ],
      "text/plain": [
       "   principal component 1  principal component 2  not.fully.paid\n",
       "0              -0.987381               1.564399             1.0\n",
       "1               0.383541              -0.457098             1.0\n",
       "2              -1.478407              -1.496520             1.0\n",
       "3               1.057543               1.521284             1.0\n",
       "4              -1.452508              -1.170521             1.0"
      ]
     },
     "execution_count": 77,
     "metadata": {},
     "output_type": "execute_result"
    }
   ],
   "source": [
    "finalDf.head()"
   ]
  },
  {
   "cell_type": "code",
   "execution_count": 78,
   "metadata": {},
   "outputs": [
    {
     "data": {
      "text/plain": [
       "<seaborn.axisgrid.FacetGrid at 0x29e67e7a748>"
      ]
     },
     "execution_count": 78,
     "metadata": {},
     "output_type": "execute_result"
    },
    {
     "data": {
      "image/png": "[encoded data removed]",
      "text/plain": [
       "<Figure size 433.984x360 with 1 Axes>"
      ]
     },
     "metadata": {
      "needs_background": "light"
     },
     "output_type": "display_data"
    }
   ],
   "source": [
    "sns.lmplot(x='principal component 1',y='principal component 2',hue='not.fully.paid',data=finalDf)"
   ]
  },
  {
   "cell_type": "code",
   "execution_count": 79,
   "metadata": {},
   "outputs": [],
   "source": [
    "X_2D = finalDf.drop('not.fully.paid',axis=1)\n",
    "y_2D = finalDf['not.fully.paid']\n",
    "\n",
    "X_train_2D, X_test_2D, y_train_2D, y_test_2D = train_test_split(X_2D, y_2D, test_size=0.30, random_state=10)"
   ]
  },
  {
   "cell_type": "markdown",
   "metadata": {},
   "source": [
    "## 1. Training a Logistic Regression Model\n",
    "\n",
    "\n",
    "** Import LogisticRegressionr**"
   ]
  },
  {
   "cell_type": "code",
   "execution_count": 80,
   "metadata": {},
   "outputs": [],
   "source": [
    "from sklearn.linear_model import LogisticRegression"
   ]
  },
  {
   "cell_type": "code",
   "execution_count": 81,
   "metadata": {},
   "outputs": [
    {
     "data": {
      "text/plain": [
       "LogisticRegression(C=1.0, class_weight=None, dual=False, fit_intercept=True,\n",
       "          intercept_scaling=1, max_iter=100, multi_class='warn',\n",
       "          n_jobs=None, penalty='l2', random_state=1210, solver='warn',\n",
       "          tol=0.0001, verbose=0, warm_start=False)"
      ]
     },
     "execution_count": 81,
     "metadata": {},
     "output_type": "execute_result"
    }
   ],
   "source": [
    "lr = LogisticRegression(random_state=1210)\n",
    "lr.fit(X_train_2D,y_train_2D)"
   ]
  },
  {
   "cell_type": "markdown",
   "metadata": {},
   "source": [
    "### Predictions and Evaluation of Logistic Regression\n",
    "**Creating predictions from the test set and creating a classification report and confusion matrix.**"
   ]
  },
  {
   "cell_type": "code",
   "execution_count": 82,
   "metadata": {},
   "outputs": [],
   "source": [
    "predictions = lr.predict(X_test_2D)"
   ]
  },
  {
   "cell_type": "code",
   "execution_count": 83,
   "metadata": {},
   "outputs": [
    {
     "name": "stdout",
     "output_type": "stream",
     "text": [
      "CLASSIFICATION REPORT:\n",
      "\n",
      "              precision    recall  f1-score   support\n",
      "\n",
      "         0.0       0.59      0.58      0.59       422\n",
      "         1.0       0.61      0.62      0.61       444\n",
      "\n",
      "   micro avg       0.60      0.60      0.60       866\n",
      "   macro avg       0.60      0.60      0.60       866\n",
      "weighted avg       0.60      0.60      0.60       866\n",
      "\n",
      "\n",
      "CONFUSION MATRIX:\n",
      "[[245 177]\n",
      " [169 275]]\n",
      "\n",
      "F-1 Score:  0.6138392857142857\n"
     ]
    }
   ],
   "source": [
    "print(\"CLASSIFICATION REPORT:\\n\")\n",
    "print(classification_report(y_test,predictions))\n",
    "\n",
    "print(\"\\nCONFUSION MATRIX:\")\n",
    "print(confusion_matrix(y_test,predictions))\n",
    "\n",
    "print(\"\\nF-1 Score: \",f1_score(y_test,predictions))"
   ]
  },
  {
   "cell_type": "markdown",
   "metadata": {},
   "source": [
    "### Tuning Logistic Regression Model Parameters\n"
   ]
  },
  {
   "cell_type": "code",
   "execution_count": 84,
   "metadata": {},
   "outputs": [],
   "source": [
    "lr = LogisticRegression(random_state=1210)"
   ]
  },
  {
   "cell_type": "code",
   "execution_count": 85,
   "metadata": {},
   "outputs": [],
   "source": [
    "grid_list = {\"C\": np.arange(1, 15, 2),\n",
    "             \"max_iter\": np.arange(25, 500, 50),\n",
    "             \"penalty\": np.array([\"l1\",\"l2\"]),\n",
    "             \"random_state\": [1210] }\n",
    " \n",
    "grid_search = GridSearchCV(lr, param_grid = grid_list, n_jobs = -1, cv = 5, scoring = 'f1',verbose=1) \n"
   ]
  },
  {
   "cell_type": "code",
   "execution_count": 86,
   "metadata": {},
   "outputs": [
    {
     "name": "stdout",
     "output_type": "stream",
     "text": [
      "Fitting 5 folds for each of 140 candidates, totalling 700 fits\n"
     ]
    },
    {
     "name": "stderr",
     "output_type": "stream",
     "text": [
      "[Parallel(n_jobs=-1)]: Using backend LokyBackend with 12 concurrent workers.\n",
      "[Parallel(n_jobs=-1)]: Done  26 tasks      | elapsed:    3.6s\n",
      "[Parallel(n_jobs=-1)]: Done 677 out of 700 | elapsed:    4.6s remaining:    0.1s\n",
      "[Parallel(n_jobs=-1)]: Done 700 out of 700 | elapsed:    4.6s finished\n"
     ]
    },
    {
     "data": {
      "text/plain": [
       "GridSearchCV(cv=5, error_score='raise-deprecating',\n",
       "       estimator=LogisticRegression(C=1.0, class_weight=None, dual=False, fit_intercept=True,\n",
       "          intercept_scaling=1, max_iter=100, multi_class='warn',\n",
       "          n_jobs=None, penalty='l2', random_state=1210, solver='warn',\n",
       "          tol=0.0001, verbose=0, warm_start=False),\n",
       "       fit_params=None, iid='warn', n_jobs=-1,\n",
       "       param_grid={'C': array([ 1,  3,  5,  7,  9, 11, 13]), 'max_iter': array([ 25,  75, 125, 175, 225, 275, 325, 375, 425, 475]), 'penalty': array(['l1', 'l2'], dtype='<U2'), 'random_state': [1210]},\n",
       "       pre_dispatch='2*n_jobs', refit=True, return_train_score='warn',\n",
       "       scoring='f1', verbose=1)"
      ]
     },
     "execution_count": 86,
     "metadata": {},
     "output_type": "execute_result"
    }
   ],
   "source": [
    "grid_search.fit(X_train_2D,y_train_2D)\n"
   ]
  },
  {
   "cell_type": "code",
   "execution_count": 87,
   "metadata": {},
   "outputs": [
    {
     "name": "stdout",
     "output_type": "stream",
     "text": [
      "Logistic Regression Best Score : 0.592570044207561\n",
      "Logistic Regression Best Parameters : {'C': 1, 'max_iter': 25, 'penalty': 'l2', 'random_state': 1210}\n"
     ]
    }
   ],
   "source": [
    "print(\"Logistic Regression Best Score :\",grid_search.best_score_)\n",
    "print(\"Logistic Regression Best Parameters :\",grid_search.best_params_)\n",
    "best_scores = {}\n",
    "best_scores[\"Logistic Regression\"] = grid_search.best_score_"
   ]
  },
  {
   "cell_type": "code",
   "execution_count": 88,
   "metadata": {},
   "outputs": [
    {
     "data": {
      "text/plain": [
       "LogisticRegression(C=1, class_weight=None, dual=False, fit_intercept=True,\n",
       "          intercept_scaling=1, max_iter=25, multi_class='warn',\n",
       "          n_jobs=None, penalty='l1', random_state=1210, solver='warn',\n",
       "          tol=0.0001, verbose=0, warm_start=False)"
      ]
     },
     "execution_count": 88,
     "metadata": {},
     "output_type": "execute_result"
    }
   ],
   "source": [
    "lr = LogisticRegression(C= 1, max_iter=25,penalty='l1',random_state=1210)\n",
    "lr.fit(X_train_2D,y_train_2D)"
   ]
  },
  {
   "cell_type": "markdown",
   "metadata": {},
   "source": [
    "### Predictions and Evaluation of Tuned Logistic Regression Model\n",
    "**Creating predictions from the test set and creating a classification report and confusion matrix.**"
   ]
  },
  {
   "cell_type": "code",
   "execution_count": 89,
   "metadata": {},
   "outputs": [],
   "source": [
    "predictions = lr.predict(X_test_2D)"
   ]
  },
  {
   "cell_type": "code",
   "execution_count": 90,
   "metadata": {},
   "outputs": [
    {
     "name": "stdout",
     "output_type": "stream",
     "text": [
      "CLASSIFICATION REPORT:\n",
      "\n",
      "              precision    recall  f1-score   support\n",
      "\n",
      "         0.0       0.59      0.58      0.59       422\n",
      "         1.0       0.61      0.62      0.62       444\n",
      "\n",
      "   micro avg       0.60      0.60      0.60       866\n",
      "   macro avg       0.60      0.60      0.60       866\n",
      "weighted avg       0.60      0.60      0.60       866\n",
      "\n",
      "\n",
      "CONFUSION MATRIX:\n",
      "[[245 177]\n",
      " [168 276]]\n",
      "\n",
      "F-1 Score:  0.6153846153846154\n"
     ]
    }
   ],
   "source": [
    "print(\"CLASSIFICATION REPORT:\\n\")\n",
    "print(classification_report(y_test_2D,predictions))\n",
    "\n",
    "print(\"\\nCONFUSION MATRIX:\")\n",
    "print(confusion_matrix(y_test_2D,predictions))\n",
    "\n",
    "print(\"\\nF-1 Score: \",f1_score(y_test_2D,predictions))\n",
    "\n",
    "f1_scores = {}\n",
    "f1_scores[\"Logistic Regression\"] = f1_score(y_test_2D,predictions)"
   ]
  },
  {
   "cell_type": "markdown",
   "metadata": {},
   "source": [
    "## 2. Training a Decision Tree Model\n",
    "\n",
    "\n",
    "** Import DecisionTreeClassifier**"
   ]
  },
  {
   "cell_type": "code",
   "execution_count": 91,
   "metadata": {},
   "outputs": [],
   "source": [
    "from sklearn.tree import DecisionTreeClassifier"
   ]
  },
  {
   "cell_type": "code",
   "execution_count": 92,
   "metadata": {},
   "outputs": [
    {
     "data": {
      "text/plain": [
       "DecisionTreeClassifier(class_weight=None, criterion='gini', max_depth=None,\n",
       "            max_features=None, max_leaf_nodes=None,\n",
       "            min_impurity_decrease=0.0, min_impurity_split=None,\n",
       "            min_samples_leaf=1, min_samples_split=2,\n",
       "            min_weight_fraction_leaf=0.0, presort=False, random_state=1210,\n",
       "            splitter='best')"
      ]
     },
     "execution_count": 92,
     "metadata": {},
     "output_type": "execute_result"
    }
   ],
   "source": [
    "dtc = DecisionTreeClassifier(random_state=1210)\n",
    "dtc.fit(X_train_2D,y_train_2D)"
   ]
  },
  {
   "cell_type": "markdown",
   "metadata": {},
   "source": [
    "### Predictions and Evaluation of Decision Tree\n",
    "**Creating predictions from the test set and creating a classification report and confusion matrix.**"
   ]
  },
  {
   "cell_type": "code",
   "execution_count": 93,
   "metadata": {},
   "outputs": [],
   "source": [
    "predictions = dtc.predict(X_test_2D)"
   ]
  },
  {
   "cell_type": "code",
   "execution_count": 94,
   "metadata": {},
   "outputs": [
    {
     "name": "stdout",
     "output_type": "stream",
     "text": [
      "CLASSIFICATION REPORT:\n",
      "\n",
      "              precision    recall  f1-score   support\n",
      "\n",
      "         0.0       0.51      0.51      0.51       422\n",
      "         1.0       0.53      0.53      0.53       444\n",
      "\n",
      "   micro avg       0.52      0.52      0.52       866\n",
      "   macro avg       0.52      0.52      0.52       866\n",
      "weighted avg       0.52      0.52      0.52       866\n",
      "\n",
      "\n",
      "CONFUSION MATRIX:\n",
      "[[214 208]\n",
      " [209 235]]\n",
      "\n",
      "F-1 Score:  0.5298759864712513\n"
     ]
    }
   ],
   "source": [
    "print(\"CLASSIFICATION REPORT:\\n\")\n",
    "print(classification_report(y_test_2D,predictions))\n",
    "\n",
    "print(\"\\nCONFUSION MATRIX:\")\n",
    "print(confusion_matrix(y_test_2D,predictions))\n",
    "\n",
    "print(\"\\nF-1 Score: \",f1_score(y_test_2D,predictions))\n"
   ]
  },
  {
   "cell_type": "markdown",
   "metadata": {},
   "source": [
    "### Tuning Decision Tree Parameters\n"
   ]
  },
  {
   "cell_type": "code",
   "execution_count": 95,
   "metadata": {},
   "outputs": [],
   "source": [
    "dt = DecisionTreeClassifier()"
   ]
  },
  {
   "cell_type": "code",
   "execution_count": 96,
   "metadata": {},
   "outputs": [],
   "source": [
    "grid_list = {\"max_depth\" : np.array([10,20,40,80,100,120]),\n",
    "             \"min_samples_leaf\" : np.array([0.1,0.2,0.3,0.4,0.5]), \n",
    "             \"min_samples_split\" : np.array([0.1,0.2,0.4,0.6,0.8,0.9]),\n",
    "             \"random_state\" : [1210]}\n",
    " \n",
    "grid_search = GridSearchCV(dt, param_grid = grid_list, n_jobs = -1, cv = 5, scoring = 'f1',verbose=1) \n"
   ]
  },
  {
   "cell_type": "code",
   "execution_count": 97,
   "metadata": {},
   "outputs": [
    {
     "name": "stdout",
     "output_type": "stream",
     "text": [
      "Fitting 5 folds for each of 180 candidates, totalling 900 fits\n"
     ]
    },
    {
     "name": "stderr",
     "output_type": "stream",
     "text": [
      "[Parallel(n_jobs=-1)]: Using backend LokyBackend with 12 concurrent workers.\n",
      "[Parallel(n_jobs=-1)]: Done  40 tasks      | elapsed:    0.2s\n",
      "[Parallel(n_jobs=-1)]: Done 900 out of 900 | elapsed:    1.0s finished\n"
     ]
    },
    {
     "data": {
      "text/plain": [
       "GridSearchCV(cv=5, error_score='raise-deprecating',\n",
       "       estimator=DecisionTreeClassifier(class_weight=None, criterion='gini', max_depth=None,\n",
       "            max_features=None, max_leaf_nodes=None,\n",
       "            min_impurity_decrease=0.0, min_impurity_split=None,\n",
       "            min_samples_leaf=1, min_samples_split=2,\n",
       "            min_weight_fraction_leaf=0.0, presort=False, random_state=None,\n",
       "            splitter='best'),\n",
       "       fit_params=None, iid='warn', n_jobs=-1,\n",
       "       param_grid={'max_depth': array([ 10,  20,  40,  80, 100, 120]), 'min_samples_leaf': array([0.1, 0.2, 0.3, 0.4, 0.5]), 'min_samples_split': array([0.1, 0.2, 0.4, 0.6, 0.8, 0.9]), 'random_state': [1210]},\n",
       "       pre_dispatch='2*n_jobs', refit=True, return_train_score='warn',\n",
       "       scoring='f1', verbose=1)"
      ]
     },
     "execution_count": 97,
     "metadata": {},
     "output_type": "execute_result"
    }
   ],
   "source": [
    "grid_search.fit(X_train_2D,y_train_2D)\n"
   ]
  },
  {
   "cell_type": "code",
   "execution_count": 98,
   "metadata": {},
   "outputs": [
    {
     "name": "stdout",
     "output_type": "stream",
     "text": [
      "Decision Tree Best Score : 0.6048409385936553\n",
      "Decision Tree Best Parameters : {'max_depth': 10, 'min_samples_leaf': 0.1, 'min_samples_split': 0.4, 'random_state': 1210}\n"
     ]
    }
   ],
   "source": [
    "print(\"Decision Tree Best Score :\",grid_search.best_score_)\n",
    "print(\"Decision Tree Best Parameters :\",grid_search.best_params_)\n",
    "\n",
    "best_scores[\"Decision Tree\"] = grid_search.best_score_"
   ]
  },
  {
   "cell_type": "code",
   "execution_count": 99,
   "metadata": {},
   "outputs": [
    {
     "data": {
      "text/plain": [
       "DecisionTreeClassifier(class_weight=None, criterion='gini', max_depth=10,\n",
       "            max_features=None, max_leaf_nodes=None,\n",
       "            min_impurity_decrease=0.0, min_impurity_split=None,\n",
       "            min_samples_leaf=0.1, min_samples_split=0.4,\n",
       "            min_weight_fraction_leaf=0.0, presort=False, random_state=1210,\n",
       "            splitter='best')"
      ]
     },
     "execution_count": 99,
     "metadata": {},
     "output_type": "execute_result"
    }
   ],
   "source": [
    "dt = DecisionTreeClassifier(max_depth=10, min_samples_leaf=0.1,min_samples_split=0.4,random_state=1210)\n",
    "dt.fit(X_train_2D,y_train_2D)"
   ]
  },
  {
   "cell_type": "markdown",
   "metadata": {},
   "source": [
    "### Predictions and Evaluation of Tuned Decision Tree Model\n",
    "**Creating predictions from the test set and creating a classification report and confusion matrix.**"
   ]
  },
  {
   "cell_type": "code",
   "execution_count": 100,
   "metadata": {},
   "outputs": [],
   "source": [
    "predictions = dt.predict(X_test_2D)"
   ]
  },
  {
   "cell_type": "code",
   "execution_count": 101,
   "metadata": {},
   "outputs": [
    {
     "name": "stdout",
     "output_type": "stream",
     "text": [
      "CLASSIFICATION REPORT:\n",
      "\n",
      "              precision    recall  f1-score   support\n",
      "\n",
      "         0.0       0.60      0.52      0.56       422\n",
      "         1.0       0.59      0.67      0.63       444\n",
      "\n",
      "   micro avg       0.60      0.60      0.60       866\n",
      "   macro avg       0.60      0.59      0.59       866\n",
      "weighted avg       0.60      0.60      0.59       866\n",
      "\n",
      "\n",
      "CONFUSION MATRIX:\n",
      "[[220 202]\n",
      " [148 296]]\n",
      "\n",
      "F-1 Score:  0.6284501061571125\n"
     ]
    }
   ],
   "source": [
    "print(\"CLASSIFICATION REPORT:\\n\")\n",
    "print(classification_report(y_test_2D,predictions))\n",
    "\n",
    "print(\"\\nCONFUSION MATRIX:\")\n",
    "print(confusion_matrix(y_test_2D,predictions))\n",
    "\n",
    "print(\"\\nF-1 Score: \",f1_score(y_test_2D,predictions))\n",
    "\n",
    "f1_scores[\"Decision Tree\"] = f1_score(y_test_2D,predictions)"
   ]
  },
  {
   "cell_type": "markdown",
   "metadata": {},
   "source": [
    "## Training the Random Forest model\n",
    "** Import RandomForestClassifier**"
   ]
  },
  {
   "cell_type": "code",
   "execution_count": 102,
   "metadata": {},
   "outputs": [],
   "source": [
    "from sklearn.ensemble import RandomForestClassifier"
   ]
  },
  {
   "cell_type": "code",
   "execution_count": 103,
   "metadata": {},
   "outputs": [
    {
     "data": {
      "text/plain": [
       "RandomForestClassifier(bootstrap=True, class_weight=None, criterion='gini',\n",
       "            max_depth=None, max_features='auto', max_leaf_nodes=None,\n",
       "            min_impurity_decrease=0.0, min_impurity_split=None,\n",
       "            min_samples_leaf=1, min_samples_split=2,\n",
       "            min_weight_fraction_leaf=0.0, n_estimators=10, n_jobs=None,\n",
       "            oob_score=False, random_state=1210, verbose=0,\n",
       "            warm_start=False)"
      ]
     },
     "execution_count": 103,
     "metadata": {},
     "output_type": "execute_result"
    }
   ],
   "source": [
    "rfc = RandomForestClassifier(random_state=1210)\n",
    "rfc.fit(X_train_2D,y_train_2D)"
   ]
  },
  {
   "cell_type": "markdown",
   "metadata": {},
   "source": [
    "### Predictions and Evaluation of  Random Forest \n"
   ]
  },
  {
   "cell_type": "code",
   "execution_count": 104,
   "metadata": {},
   "outputs": [],
   "source": [
    "predictions = rfc.predict(X_test_2D)"
   ]
  },
  {
   "cell_type": "code",
   "execution_count": 105,
   "metadata": {},
   "outputs": [
    {
     "name": "stdout",
     "output_type": "stream",
     "text": [
      "CLASSIFICATION REPORT:\n",
      "\n",
      "              precision    recall  f1-score   support\n",
      "\n",
      "         0.0       0.53      0.59      0.55       422\n",
      "         1.0       0.56      0.50      0.53       444\n",
      "\n",
      "   micro avg       0.54      0.54      0.54       866\n",
      "   macro avg       0.54      0.54      0.54       866\n",
      "weighted avg       0.54      0.54      0.54       866\n",
      "\n",
      "\n",
      "CONFUSION MATRIX:\n",
      "[[247 175]\n",
      " [223 221]]\n",
      "\n",
      "F-1 Score:  0.5261904761904762\n"
     ]
    }
   ],
   "source": [
    "print(\"CLASSIFICATION REPORT:\\n\")\n",
    "print(classification_report(y_test_2D,predictions))\n",
    "\n",
    "print(\"\\nCONFUSION MATRIX:\")\n",
    "print(confusion_matrix(y_test_2D,predictions))\n",
    "\n",
    "print(\"\\nF-1 Score: \",f1_score(y_test_2D,predictions))\n"
   ]
  },
  {
   "cell_type": "markdown",
   "metadata": {},
   "source": [
    "### Tuning Random Forest Parameters\n"
   ]
  },
  {
   "cell_type": "code",
   "execution_count": 106,
   "metadata": {},
   "outputs": [],
   "source": [
    "rfc = RandomForestClassifier(random_state=1210)"
   ]
  },
  {
   "cell_type": "code",
   "execution_count": 107,
   "metadata": {},
   "outputs": [],
   "source": [
    "grid_list = {'n_estimators': [50,100,150,200],\n",
    "               'max_features': ['auto', 'sqrt'],\n",
    "               'max_depth': [10,30,60,80],\n",
    "               'min_samples_split': [2, 5, 10],\n",
    "               'min_samples_leaf': [1, 2, 4],\n",
    "               'bootstrap': [True, False],\n",
    "               \"random_state\": [1210]}\n",
    "     \n",
    "grid_search = GridSearchCV(rfc, param_grid = grid_list, n_jobs = -1, cv = 3, scoring = 'f1',verbose=1) \n"
   ]
  },
  {
   "cell_type": "code",
   "execution_count": 108,
   "metadata": {},
   "outputs": [
    {
     "name": "stdout",
     "output_type": "stream",
     "text": [
      "Fitting 3 folds for each of 576 candidates, totalling 1728 fits\n"
     ]
    },
    {
     "name": "stderr",
     "output_type": "stream",
     "text": [
      "[Parallel(n_jobs=-1)]: Using backend LokyBackend with 12 concurrent workers.\n",
      "[Parallel(n_jobs=-1)]: Done  26 tasks      | elapsed:    1.1s\n",
      "[Parallel(n_jobs=-1)]: Done 176 tasks      | elapsed:    7.4s\n",
      "[Parallel(n_jobs=-1)]: Done 426 tasks      | elapsed:   15.6s\n",
      "[Parallel(n_jobs=-1)]: Done 776 tasks      | elapsed:   28.7s\n",
      "[Parallel(n_jobs=-1)]: Done 1226 tasks      | elapsed:   46.7s\n",
      "[Parallel(n_jobs=-1)]: Done 1728 out of 1728 | elapsed:  1.2min finished\n"
     ]
    },
    {
     "data": {
      "text/plain": [
       "GridSearchCV(cv=3, error_score='raise-deprecating',\n",
       "       estimator=RandomForestClassifier(bootstrap=True, class_weight=None, criterion='gini',\n",
       "            max_depth=None, max_features='auto', max_leaf_nodes=None,\n",
       "            min_impurity_decrease=0.0, min_impurity_split=None,\n",
       "            min_samples_leaf=1, min_samples_split=2,\n",
       "            min_weight_fraction_leaf=0.0, n_estimators='warn', n_jobs=None,\n",
       "            oob_score=False, random_state=1210, verbose=0,\n",
       "            warm_start=False),\n",
       "       fit_params=None, iid='warn', n_jobs=-1,\n",
       "       param_grid={'n_estimators': [50, 100, 150, 200], 'max_features': ['auto', 'sqrt'], 'max_depth': [10, 30, 60, 80], 'min_samples_split': [2, 5, 10], 'min_samples_leaf': [1, 2, 4], 'bootstrap': [True, False], 'random_state': [1210]},\n",
       "       pre_dispatch='2*n_jobs', refit=True, return_train_score='warn',\n",
       "       scoring='f1', verbose=1)"
      ]
     },
     "execution_count": 108,
     "metadata": {},
     "output_type": "execute_result"
    }
   ],
   "source": [
    "grid_search.fit(X_train_2D,y_train_2D)\n"
   ]
  },
  {
   "cell_type": "code",
   "execution_count": 109,
   "metadata": {},
   "outputs": [
    {
     "name": "stdout",
     "output_type": "stream",
     "text": [
      "Random Forest Best Score : 0.5762836053940139\n",
      "Random Forest Best Parameters : {'bootstrap': False, 'max_depth': 10, 'max_features': 'auto', 'min_samples_leaf': 1, 'min_samples_split': 10, 'n_estimators': 100, 'random_state': 1210}\n"
     ]
    }
   ],
   "source": [
    "print(\"Random Forest Best Score :\",grid_search.best_score_)\n",
    "print(\"Random Forest Best Parameters :\",grid_search.best_params_)\n",
    "\n",
    "best_scores[\"Random Forest\"] = grid_search.best_score_"
   ]
  },
  {
   "cell_type": "code",
   "execution_count": 110,
   "metadata": {},
   "outputs": [
    {
     "data": {
      "text/plain": [
       "RandomForestClassifier(bootstrap=True, class_weight=None, criterion='gini',\n",
       "            max_depth=10, max_features='auto', max_leaf_nodes=None,\n",
       "            min_impurity_decrease=0.0, min_impurity_split=None,\n",
       "            min_samples_leaf=2, min_samples_split=10,\n",
       "            min_weight_fraction_leaf=0.0, n_estimators=200, n_jobs=None,\n",
       "            oob_score=False, random_state=1210, verbose=0,\n",
       "            warm_start=False)"
      ]
     },
     "execution_count": 110,
     "metadata": {},
     "output_type": "execute_result"
    }
   ],
   "source": [
    "rfc = RandomForestClassifier(bootstrap=True,\n",
    "                             max_depth=10,\n",
    "                             max_features='auto',\n",
    "                             min_samples_leaf=2,\n",
    "                             min_samples_split=10,\n",
    "                             n_estimators=200,\n",
    "                             random_state=1210)\n",
    "rfc.fit(X_train_2D,y_train_2D)"
   ]
  },
  {
   "cell_type": "markdown",
   "metadata": {},
   "source": [
    "### Predictions and Evaluation of Tuned Random Forest Model\n",
    "**Creating predictions from the test set and creating a classification report and confusion matrix.**"
   ]
  },
  {
   "cell_type": "code",
   "execution_count": 111,
   "metadata": {},
   "outputs": [],
   "source": [
    "predictions = rfc.predict(X_test_2D)"
   ]
  },
  {
   "cell_type": "code",
   "execution_count": 112,
   "metadata": {},
   "outputs": [
    {
     "name": "stdout",
     "output_type": "stream",
     "text": [
      "CLASSIFICATION REPORT:\n",
      "\n",
      "              precision    recall  f1-score   support\n",
      "\n",
      "         0.0       0.57      0.56      0.57       422\n",
      "         1.0       0.59      0.60      0.60       444\n",
      "\n",
      "   micro avg       0.58      0.58      0.58       866\n",
      "   macro avg       0.58      0.58      0.58       866\n",
      "weighted avg       0.58      0.58      0.58       866\n",
      "\n",
      "\n",
      "CONFUSION MATRIX:\n",
      "[[237 185]\n",
      " [177 267]]\n",
      "\n",
      "F-1 Score:  0.5959821428571428\n"
     ]
    }
   ],
   "source": [
    "print(\"CLASSIFICATION REPORT:\\n\")\n",
    "print(classification_report(y_test_2D,predictions))\n",
    "\n",
    "print(\"\\nCONFUSION MATRIX:\")\n",
    "print(confusion_matrix(y_test_2D,predictions))\n",
    "\n",
    "print(\"\\nF-1 Score: \",f1_score(y_test_2D,predictions))\n",
    "\n",
    "f1_scores[\"Random Forest\"] = f1_score(y_test_2D,predictions)"
   ]
  },
  {
   "cell_type": "markdown",
   "metadata": {},
   "source": [
    "## Training a K-Nearest Neighbors Model\n",
    "\n",
    "\n",
    "** Import KNeighborsClassifier**"
   ]
  },
  {
   "cell_type": "code",
   "execution_count": 113,
   "metadata": {},
   "outputs": [],
   "source": [
    "from sklearn.neighbors import KNeighborsClassifier"
   ]
  },
  {
   "cell_type": "code",
   "execution_count": 114,
   "metadata": {},
   "outputs": [],
   "source": [
    "knn = KNeighborsClassifier()"
   ]
  },
  {
   "cell_type": "code",
   "execution_count": 115,
   "metadata": {},
   "outputs": [
    {
     "data": {
      "text/plain": [
       "KNeighborsClassifier(algorithm='auto', leaf_size=30, metric='minkowski',\n",
       "           metric_params=None, n_jobs=None, n_neighbors=5, p=2,\n",
       "           weights='uniform')"
      ]
     },
     "execution_count": 115,
     "metadata": {},
     "output_type": "execute_result"
    }
   ],
   "source": [
    "knn.fit(X_train_2D,y_train_2D)\n"
   ]
  },
  {
   "cell_type": "markdown",
   "metadata": {},
   "source": [
    "### Predictions and Evaluation of K-Nearest Neighbors Model\n",
    "**Creating predictions from the test set and creating a classification report and confusion matrix.**"
   ]
  },
  {
   "cell_type": "code",
   "execution_count": 116,
   "metadata": {},
   "outputs": [],
   "source": [
    "predictions = knn.predict(X_test_2D)"
   ]
  },
  {
   "cell_type": "code",
   "execution_count": 117,
   "metadata": {},
   "outputs": [
    {
     "name": "stdout",
     "output_type": "stream",
     "text": [
      "CLASSIFICATION REPORT:\n",
      "\n",
      "              precision    recall  f1-score   support\n",
      "\n",
      "         0.0       0.54      0.55      0.55       422\n",
      "         1.0       0.57      0.56      0.56       444\n",
      "\n",
      "   micro avg       0.56      0.56      0.56       866\n",
      "   macro avg       0.56      0.56      0.56       866\n",
      "weighted avg       0.56      0.56      0.56       866\n",
      "\n",
      "\n",
      "CONFUSION MATRIX:\n",
      "[[233 189]\n",
      " [196 248]]\n",
      "\n",
      "F-1 Score:  0.5629965947786605\n"
     ]
    }
   ],
   "source": [
    "print(\"CLASSIFICATION REPORT:\\n\")\n",
    "print(classification_report(y_test_2D,predictions))\n",
    "\n",
    "print(\"\\nCONFUSION MATRIX:\")\n",
    "print(confusion_matrix(y_test_2D,predictions))\n",
    "\n",
    "print(\"\\nF-1 Score: \",f1_score(y_test_2D,predictions))\n"
   ]
  },
  {
   "cell_type": "markdown",
   "metadata": {},
   "source": [
    "### Tuning Random Forest Parameters\n"
   ]
  },
  {
   "cell_type": "code",
   "execution_count": 118,
   "metadata": {},
   "outputs": [],
   "source": [
    "knn = KNeighborsClassifier()"
   ]
  },
  {
   "cell_type": "code",
   "execution_count": 119,
   "metadata": {},
   "outputs": [],
   "source": [
    "grid_list = {'n_neighbors':[3,5,7,9],\n",
    "          'leaf_size':[1,2,3,5],\n",
    "          'weights':['uniform', 'distance'],\n",
    "          'algorithm':['auto', 'ball_tree','kd_tree','brute']}\n",
    "     \n",
    "grid_search = GridSearchCV(knn, param_grid = grid_list, n_jobs = -1, cv = 3, scoring = 'f1',verbose=1) \n"
   ]
  },
  {
   "cell_type": "code",
   "execution_count": 120,
   "metadata": {},
   "outputs": [
    {
     "name": "stdout",
     "output_type": "stream",
     "text": [
      "Fitting 3 folds for each of 128 candidates, totalling 384 fits\n"
     ]
    },
    {
     "name": "stderr",
     "output_type": "stream",
     "text": [
      "[Parallel(n_jobs=-1)]: Using backend LokyBackend with 12 concurrent workers.\n",
      "[Parallel(n_jobs=-1)]: Done  48 tasks      | elapsed:    0.7s\n",
      "[Parallel(n_jobs=-1)]: Done 384 out of 384 | elapsed:    3.2s finished\n"
     ]
    },
    {
     "data": {
      "text/plain": [
       "GridSearchCV(cv=3, error_score='raise-deprecating',\n",
       "       estimator=KNeighborsClassifier(algorithm='auto', leaf_size=30, metric='minkowski',\n",
       "           metric_params=None, n_jobs=None, n_neighbors=5, p=2,\n",
       "           weights='uniform'),\n",
       "       fit_params=None, iid='warn', n_jobs=-1,\n",
       "       param_grid={'n_neighbors': [3, 5, 7, 9], 'leaf_size': [1, 2, 3, 5], 'weights': ['uniform', 'distance'], 'algorithm': ['auto', 'ball_tree', 'kd_tree', 'brute']},\n",
       "       pre_dispatch='2*n_jobs', refit=True, return_train_score='warn',\n",
       "       scoring='f1', verbose=1)"
      ]
     },
     "execution_count": 120,
     "metadata": {},
     "output_type": "execute_result"
    }
   ],
   "source": [
    "grid_search.fit(X_train_2D,y_train_2D)\n"
   ]
  },
  {
   "cell_type": "code",
   "execution_count": 121,
   "metadata": {},
   "outputs": [
    {
     "name": "stdout",
     "output_type": "stream",
     "text": [
      "KNN Best Score : 0.5510315193450156\n",
      "KNN Best Parameters : {'algorithm': 'auto', 'leaf_size': 1, 'n_neighbors': 9, 'weights': 'uniform'}\n"
     ]
    }
   ],
   "source": [
    "print(\"KNN Best Score :\",grid_search.best_score_)\n",
    "print(\"KNN Best Parameters :\",grid_search.best_params_)\n",
    "\n",
    "best_scores[\"KNN\"] = grid_search.best_score_"
   ]
  },
  {
   "cell_type": "code",
   "execution_count": 122,
   "metadata": {},
   "outputs": [
    {
     "data": {
      "text/plain": [
       "KNeighborsClassifier(algorithm='auto', leaf_size=1, metric='minkowski',\n",
       "           metric_params=None, n_jobs=None, n_neighbors=9, p=2,\n",
       "           weights='uniform')"
      ]
     },
     "execution_count": 122,
     "metadata": {},
     "output_type": "execute_result"
    }
   ],
   "source": [
    "knn = KNeighborsClassifier(algorithm='auto',\n",
    "                           leaf_size=1,\n",
    "                           n_neighbors=9,\n",
    "                           weights='uniform')\n",
    "knn.fit(X_train_2D,y_train_2D)"
   ]
  },
  {
   "cell_type": "markdown",
   "metadata": {},
   "source": [
    "### Predictions and Evaluation of Tuned Random Forest Model\n",
    "**Creating predictions from the test set and creating a classification report and confusion matrix.**"
   ]
  },
  {
   "cell_type": "code",
   "execution_count": 123,
   "metadata": {},
   "outputs": [],
   "source": [
    "predictions = knn.predict(X_test_2D)"
   ]
  },
  {
   "cell_type": "code",
   "execution_count": 124,
   "metadata": {
    "scrolled": true
   },
   "outputs": [
    {
     "name": "stdout",
     "output_type": "stream",
     "text": [
      "CLASSIFICATION REPORT:\n",
      "\n",
      "              precision    recall  f1-score   support\n",
      "\n",
      "         0.0       0.55      0.56      0.56       422\n",
      "         1.0       0.58      0.57      0.57       444\n",
      "\n",
      "   micro avg       0.56      0.56      0.56       866\n",
      "   macro avg       0.56      0.56      0.56       866\n",
      "weighted avg       0.56      0.56      0.56       866\n",
      "\n",
      "\n",
      "CONFUSION MATRIX:\n",
      "[[236 186]\n",
      " [192 252]]\n",
      "\n",
      "F-1 Score:  0.5714285714285713\n"
     ]
    }
   ],
   "source": [
    "print(\"CLASSIFICATION REPORT:\\n\")\n",
    "print(classification_report(y_test_2D,predictions))\n",
    "\n",
    "print(\"\\nCONFUSION MATRIX:\")\n",
    "print(confusion_matrix(y_test_2D,predictions))\n",
    "\n",
    "print(\"\\nF-1 Score: \",f1_score(y_test_2D,predictions))\n",
    "\n",
    "f1_scores[\"KNN\"] = f1_score(y_test_2D,predictions)"
   ]
  },
  {
   "cell_type": "markdown",
   "metadata": {},
   "source": [
    "## Training a Linear SVC Model\n",
    "\n",
    "\n",
    "** Import LinearSVC**"
   ]
  },
  {
   "cell_type": "code",
   "execution_count": 125,
   "metadata": {},
   "outputs": [],
   "source": [
    "from sklearn.svm import LinearSVC"
   ]
  },
  {
   "cell_type": "code",
   "execution_count": 126,
   "metadata": {},
   "outputs": [
    {
     "data": {
      "text/plain": [
       "LinearSVC(C=1.0, class_weight=None, dual=True, fit_intercept=True,\n",
       "     intercept_scaling=1, loss='squared_hinge', max_iter=1000,\n",
       "     multi_class='ovr', penalty='l2', random_state=1210, tol=0.0001,\n",
       "     verbose=0)"
      ]
     },
     "execution_count": 126,
     "metadata": {},
     "output_type": "execute_result"
    }
   ],
   "source": [
    "lsvc =LinearSVC(random_state=1210)\n",
    "lsvc.fit(X_train_2D,y_train_2D)\n"
   ]
  },
  {
   "cell_type": "markdown",
   "metadata": {},
   "source": [
    "### Predictions and Evaluation of Linear SVC Model\n",
    "**Creating predictions from the test set and creating a classification report and confusion matrix.**"
   ]
  },
  {
   "cell_type": "code",
   "execution_count": 127,
   "metadata": {},
   "outputs": [],
   "source": [
    "predictions = lsvc.predict(X_test_2D)"
   ]
  },
  {
   "cell_type": "code",
   "execution_count": 128,
   "metadata": {},
   "outputs": [
    {
     "name": "stdout",
     "output_type": "stream",
     "text": [
      "CLASSIFICATION REPORT:\n",
      "\n",
      "              precision    recall  f1-score   support\n",
      "\n",
      "         0.0       0.59      0.58      0.59       422\n",
      "         1.0       0.61      0.62      0.62       444\n",
      "\n",
      "   micro avg       0.60      0.60      0.60       866\n",
      "   macro avg       0.60      0.60      0.60       866\n",
      "weighted avg       0.60      0.60      0.60       866\n",
      "\n",
      "\n",
      "CONFUSION MATRIX:\n",
      "[[245 177]\n",
      " [168 276]]\n",
      "\n",
      "F-1 Score:  0.6153846153846154\n"
     ]
    }
   ],
   "source": [
    "print(\"CLASSIFICATION REPORT:\\n\")\n",
    "print(classification_report(y_test_2D,predictions))\n",
    "\n",
    "print(\"\\nCONFUSION MATRIX:\")\n",
    "print(confusion_matrix(y_test_2D,predictions))\n",
    "\n",
    "print(\"\\nF-1 Score: \",f1_score(y_test_2D,predictions))\n"
   ]
  },
  {
   "cell_type": "markdown",
   "metadata": {},
   "source": [
    "### Tuning Linear SVC Parameters\n"
   ]
  },
  {
   "cell_type": "code",
   "execution_count": 129,
   "metadata": {},
   "outputs": [],
   "source": [
    "lsvc = LinearSVC(random_state=1210)"
   ]
  },
  {
   "cell_type": "code",
   "execution_count": 130,
   "metadata": {},
   "outputs": [],
   "source": [
    "grid_list = {'C': [6,7,8,9,10,11,12],\n",
    "            'max_iter' : [1000,2000,3000],\n",
    "            \"random_state\": [1210]}\n",
    "    \n",
    "\n",
    "grid_search = GridSearchCV(lsvc, param_grid = grid_list, n_jobs = -1, cv = 5, scoring = 'f1',verbose=1) \n"
   ]
  },
  {
   "cell_type": "code",
   "execution_count": 131,
   "metadata": {},
   "outputs": [
    {
     "name": "stdout",
     "output_type": "stream",
     "text": [
      "Fitting 5 folds for each of 21 candidates, totalling 105 fits\n"
     ]
    },
    {
     "name": "stderr",
     "output_type": "stream",
     "text": [
      "[Parallel(n_jobs=-1)]: Using backend LokyBackend with 12 concurrent workers.\n",
      "[Parallel(n_jobs=-1)]: Done  28 tasks      | elapsed:    0.5s\n",
      "[Parallel(n_jobs=-1)]: Done  82 out of 105 | elapsed:    1.4s remaining:    0.3s\n",
      "[Parallel(n_jobs=-1)]: Done 105 out of 105 | elapsed:    1.9s finished\n"
     ]
    },
    {
     "data": {
      "text/plain": [
       "GridSearchCV(cv=5, error_score='raise-deprecating',\n",
       "       estimator=LinearSVC(C=1.0, class_weight=None, dual=True, fit_intercept=True,\n",
       "     intercept_scaling=1, loss='squared_hinge', max_iter=1000,\n",
       "     multi_class='ovr', penalty='l2', random_state=1210, tol=0.0001,\n",
       "     verbose=0),\n",
       "       fit_params=None, iid='warn', n_jobs=-1,\n",
       "       param_grid={'C': [6, 7, 8, 9, 10, 11, 12], 'max_iter': [1000, 2000, 3000], 'random_state': [1210]},\n",
       "       pre_dispatch='2*n_jobs', refit=True, return_train_score='warn',\n",
       "       scoring='f1', verbose=1)"
      ]
     },
     "execution_count": 131,
     "metadata": {},
     "output_type": "execute_result"
    }
   ],
   "source": [
    "grid_search.fit(X_train_2D,y_train_2D)\n"
   ]
  },
  {
   "cell_type": "code",
   "execution_count": 132,
   "metadata": {},
   "outputs": [
    {
     "name": "stdout",
     "output_type": "stream",
     "text": [
      "Linear SVC Score : 0.592278013818704\n",
      "Linear SVC Best Parameters : {'C': 8, 'max_iter': 2000, 'random_state': 1210}\n"
     ]
    }
   ],
   "source": [
    "print(\"Linear SVC Score :\",grid_search.best_score_)\n",
    "print(\"Linear SVC Best Parameters :\",grid_search.best_params_)\n",
    "\n",
    "best_scores[\"Linear SVC\"] = grid_search.best_score_"
   ]
  },
  {
   "cell_type": "code",
   "execution_count": 133,
   "metadata": {},
   "outputs": [
    {
     "data": {
      "text/plain": [
       "LinearSVC(C=8, class_weight=None, dual=True, fit_intercept=True,\n",
       "     intercept_scaling=1, loss='squared_hinge', max_iter=3000,\n",
       "     multi_class='ovr', penalty='l2', random_state=1210, tol=0.0001,\n",
       "     verbose=0)"
      ]
     },
     "execution_count": 133,
     "metadata": {},
     "output_type": "execute_result"
    }
   ],
   "source": [
    "lsvc = LinearSVC(C=8,max_iter=3000,random_state=1210)\n",
    "lsvc.fit(X_train_2D,y_train_2D)"
   ]
  },
  {
   "cell_type": "markdown",
   "metadata": {},
   "source": [
    "### Predictions and Evaluation of Tuned Linear SVC Model\n",
    "**Creating predictions from the test set and creating a classification report and confusion matrix.**"
   ]
  },
  {
   "cell_type": "code",
   "execution_count": 134,
   "metadata": {},
   "outputs": [],
   "source": [
    "predictions = lsvc.predict(X_test_2D)"
   ]
  },
  {
   "cell_type": "code",
   "execution_count": 135,
   "metadata": {
    "scrolled": true
   },
   "outputs": [
    {
     "name": "stdout",
     "output_type": "stream",
     "text": [
      "CLASSIFICATION REPORT:\n",
      "\n",
      "              precision    recall  f1-score   support\n",
      "\n",
      "         0.0       0.59      0.58      0.59       422\n",
      "         1.0       0.61      0.62      0.62       444\n",
      "\n",
      "   micro avg       0.60      0.60      0.60       866\n",
      "   macro avg       0.60      0.60      0.60       866\n",
      "weighted avg       0.60      0.60      0.60       866\n",
      "\n",
      "\n",
      "CONFUSION MATRIX:\n",
      "[[245 177]\n",
      " [168 276]]\n",
      "\n",
      "F-1 Score:  0.6153846153846154\n"
     ]
    }
   ],
   "source": [
    "print(\"CLASSIFICATION REPORT:\\n\")\n",
    "print(classification_report(y_test_2D,predictions))\n",
    "\n",
    "print(\"\\nCONFUSION MATRIX:\")\n",
    "print(confusion_matrix(y_test_2D,predictions))\n",
    "\n",
    "print(\"\\nF-1 Score: \",f1_score(y_test_2D,predictions))\n",
    "\n",
    "f1_scores[\"Linear SVC\"] = f1_score(y_test_2D,predictions)"
   ]
  },
  {
   "cell_type": "markdown",
   "metadata": {},
   "source": [
    "## Training a Kernalized SVC Model\n",
    "\n",
    "\n",
    "** Import SVC**"
   ]
  },
  {
   "cell_type": "code",
   "execution_count": 136,
   "metadata": {},
   "outputs": [],
   "source": [
    "from sklearn.svm import SVC"
   ]
  },
  {
   "cell_type": "code",
   "execution_count": 137,
   "metadata": {},
   "outputs": [
    {
     "data": {
      "text/plain": [
       "SVC(C=1.0, cache_size=200, class_weight=None, coef0=0.0,\n",
       "  decision_function_shape='ovr', degree=3, gamma='auto_deprecated',\n",
       "  kernel='rbf', max_iter=-1, probability=False, random_state=1210,\n",
       "  shrinking=True, tol=0.001, verbose=False)"
      ]
     },
     "execution_count": 137,
     "metadata": {},
     "output_type": "execute_result"
    }
   ],
   "source": [
    "ksvc = SVC(kernel='rbf',random_state=1210)\n",
    "ksvc.fit(X_train_2D,y_train_2D)\n"
   ]
  },
  {
   "cell_type": "markdown",
   "metadata": {},
   "source": [
    "### Predictions and Evaluation of Linear SVC Model\n",
    "**Creating predictions from the test set and creating a classification report and confusion matrix.**"
   ]
  },
  {
   "cell_type": "code",
   "execution_count": 138,
   "metadata": {},
   "outputs": [],
   "source": [
    "predictions = ksvc.predict(X_test_2D)"
   ]
  },
  {
   "cell_type": "code",
   "execution_count": 139,
   "metadata": {},
   "outputs": [
    {
     "name": "stdout",
     "output_type": "stream",
     "text": [
      "CLASSIFICATION REPORT:\n",
      "\n",
      "              precision    recall  f1-score   support\n",
      "\n",
      "         0.0       0.60      0.52      0.55       422\n",
      "         1.0       0.59      0.67      0.63       444\n",
      "\n",
      "   micro avg       0.60      0.60      0.60       866\n",
      "   macro avg       0.60      0.59      0.59       866\n",
      "weighted avg       0.60      0.60      0.59       866\n",
      "\n",
      "\n",
      "CONFUSION MATRIX:\n",
      "[[218 204]\n",
      " [146 298]]\n",
      "\n",
      "F-1 Score:  0.6300211416490487\n"
     ]
    }
   ],
   "source": [
    "print(\"CLASSIFICATION REPORT:\\n\")\n",
    "print(classification_report(y_test_2D,predictions))\n",
    "\n",
    "print(\"\\nCONFUSION MATRIX:\")\n",
    "print(confusion_matrix(y_test_2D,predictions))\n",
    "\n",
    "print(\"\\nF-1 Score: \",f1_score(y_test_2D,predictions))\n"
   ]
  },
  {
   "cell_type": "markdown",
   "metadata": {},
   "source": [
    "### Tuning Kernal SVC Parameters\n"
   ]
  },
  {
   "cell_type": "code",
   "execution_count": 140,
   "metadata": {},
   "outputs": [],
   "source": [
    "ksvc = SVC(kernel='rbf',random_state=1210)"
   ]
  },
  {
   "cell_type": "code",
   "execution_count": 141,
   "metadata": {},
   "outputs": [],
   "source": [
    "grid_list = {'C': [1,2,3,4,5,6,7],\n",
    "             'gamma': [0.5,1,2,3,5],\n",
    "             \"random_state\": [1210]}\n",
    "    \n",
    "    \n",
    "grid_search = GridSearchCV(ksvc, param_grid = grid_list, n_jobs = -1, cv = 5, scoring = 'f1',verbose=1) "
   ]
  },
  {
   "cell_type": "code",
   "execution_count": 142,
   "metadata": {},
   "outputs": [
    {
     "name": "stdout",
     "output_type": "stream",
     "text": [
      "Fitting 5 folds for each of 35 candidates, totalling 175 fits\n"
     ]
    },
    {
     "name": "stderr",
     "output_type": "stream",
     "text": [
      "[Parallel(n_jobs=-1)]: Using backend LokyBackend with 12 concurrent workers.\n",
      "[Parallel(n_jobs=-1)]: Done  28 tasks      | elapsed:    0.6s\n",
      "[Parallel(n_jobs=-1)]: Done 152 out of 175 | elapsed:    2.7s remaining:    0.3s\n",
      "[Parallel(n_jobs=-1)]: Done 175 out of 175 | elapsed:    2.9s finished\n"
     ]
    },
    {
     "data": {
      "text/plain": [
       "GridSearchCV(cv=5, error_score='raise-deprecating',\n",
       "       estimator=SVC(C=1.0, cache_size=200, class_weight=None, coef0=0.0,\n",
       "  decision_function_shape='ovr', degree=3, gamma='auto_deprecated',\n",
       "  kernel='rbf', max_iter=-1, probability=False, random_state=1210,\n",
       "  shrinking=True, tol=0.001, verbose=False),\n",
       "       fit_params=None, iid='warn', n_jobs=-1,\n",
       "       param_grid={'C': [1, 2, 3, 4, 5, 6, 7], 'gamma': [0.5, 1, 2, 3, 5], 'random_state': [1210]},\n",
       "       pre_dispatch='2*n_jobs', refit=True, return_train_score='warn',\n",
       "       scoring='f1', verbose=1)"
      ]
     },
     "execution_count": 142,
     "metadata": {},
     "output_type": "execute_result"
    }
   ],
   "source": [
    "grid_search.fit(X_train_2D,y_train_2D)\n"
   ]
  },
  {
   "cell_type": "code",
   "execution_count": 143,
   "metadata": {},
   "outputs": [
    {
     "name": "stdout",
     "output_type": "stream",
     "text": [
      "Kernal SVC Score : 0.6087108025037854\n",
      "Kernal SVC Best Parameters : {'C': 1, 'gamma': 0.5, 'random_state': 1210}\n"
     ]
    }
   ],
   "source": [
    "print(\"Kernal SVC Score :\",grid_search.best_score_)\n",
    "print(\"Kernal SVC Best Parameters :\",grid_search.best_params_)\n",
    "\n",
    "best_scores[\"Kernal SVC\"] = grid_search.best_score_"
   ]
  },
  {
   "cell_type": "code",
   "execution_count": 144,
   "metadata": {},
   "outputs": [
    {
     "data": {
      "text/plain": [
       "SVC(C=1, cache_size=200, class_weight=None, coef0=0.0,\n",
       "  decision_function_shape='ovr', degree=3, gamma=0.5, kernel='rbf',\n",
       "  max_iter=-1, probability=False, random_state=1210, shrinking=True,\n",
       "  tol=0.001, verbose=False)"
      ]
     },
     "execution_count": 144,
     "metadata": {},
     "output_type": "execute_result"
    }
   ],
   "source": [
    "ksvc = SVC(kernel='rbf', C=1,gamma=0.5,random_state=1210)\n",
    "ksvc.fit(X_train_2D,y_train_2D)"
   ]
  },
  {
   "cell_type": "markdown",
   "metadata": {},
   "source": [
    "### Predictions and Evaluation of Tuned Linear SVC Model\n",
    "**Creating predictions from the test set and creating a classification report and confusion matrix.**"
   ]
  },
  {
   "cell_type": "code",
   "execution_count": 145,
   "metadata": {},
   "outputs": [],
   "source": [
    "predictions = ksvc.predict(X_test_2D)"
   ]
  },
  {
   "cell_type": "code",
   "execution_count": 146,
   "metadata": {},
   "outputs": [
    {
     "name": "stdout",
     "output_type": "stream",
     "text": [
      "CLASSIFICATION REPORT:\n",
      "\n",
      "              precision    recall  f1-score   support\n",
      "\n",
      "         0.0       0.60      0.52      0.55       422\n",
      "         1.0       0.59      0.67      0.63       444\n",
      "\n",
      "   micro avg       0.60      0.60      0.60       866\n",
      "   macro avg       0.60      0.59      0.59       866\n",
      "weighted avg       0.60      0.60      0.59       866\n",
      "\n",
      "\n",
      "CONFUSION MATRIX:\n",
      "[[218 204]\n",
      " [146 298]]\n",
      "\n",
      "F-1 Score:  0.6300211416490487\n"
     ]
    }
   ],
   "source": [
    "print(\"CLASSIFICATION REPORT:\\n\")\n",
    "print(classification_report(y_test_2D,predictions))\n",
    "\n",
    "print(\"\\nCONFUSION MATRIX:\")\n",
    "print(confusion_matrix(y_test_2D,predictions))\n",
    "\n",
    "print(\"\\nF-1 Score: \",f1_score(y_test_2D,predictions))\n",
    "\n",
    "f1_scores[\"Kernal SVC\"] = f1_score(y_test_2D,predictions)"
   ]
  },
  {
   "cell_type": "markdown",
   "metadata": {},
   "source": [
    "# Deep Learning"
   ]
  },
  {
   "cell_type": "code",
   "execution_count": 147,
   "metadata": {},
   "outputs": [
    {
     "name": "stderr",
     "output_type": "stream",
     "text": [
      "Using TensorFlow backend.\n"
     ]
    }
   ],
   "source": [
    "from tensorflow.keras.models import Sequential\n",
    "from tensorflow.keras.layers import Dense, Activation\n",
    "from keras.utils import np_utils,to_categorical\n",
    "\n"
   ]
  },
  {
   "cell_type": "code",
   "execution_count": 148,
   "metadata": {},
   "outputs": [],
   "source": [
    "y_train_CAT = to_categorical(y_train)\n",
    "y_test_CAT = to_categorical(y_test)"
   ]
  },
  {
   "cell_type": "code",
   "execution_count": 149,
   "metadata": {},
   "outputs": [
    {
     "data": {
      "text/plain": [
       "(2018, 19)"
      ]
     },
     "execution_count": 149,
     "metadata": {},
     "output_type": "execute_result"
    }
   ],
   "source": [
    "X_train.shape"
   ]
  },
  {
   "cell_type": "code",
   "execution_count": 150,
   "metadata": {},
   "outputs": [
    {
     "name": "stdout",
     "output_type": "stream",
     "text": [
      "WARNING:tensorflow:From C:\\ProgramData\\Anaconda3\\lib\\site-packages\\tensorflow\\python\\ops\\resource_variable_ops.py:435: colocate_with (from tensorflow.python.framework.ops) is deprecated and will be removed in a future version.\n",
      "Instructions for updating:\n",
      "Colocations handled automatically by placer.\n"
     ]
    }
   ],
   "source": [
    "# step 1: build the model\n",
    "model = Sequential()\n",
    "model.add(Dense(32, input_dim = 19, activation='relu'))\n",
    "model.add(Dense(2, activation = 'softmax'))"
   ]
  },
  {
   "cell_type": "code",
   "execution_count": 151,
   "metadata": {
    "scrolled": true
   },
   "outputs": [
    {
     "name": "stdout",
     "output_type": "stream",
     "text": [
      "Train on 1816 samples, validate on 202 samples\n",
      "WARNING:tensorflow:From C:\\ProgramData\\Anaconda3\\lib\\site-packages\\tensorflow\\python\\ops\\math_ops.py:3066: to_int32 (from tensorflow.python.ops.math_ops) is deprecated and will be removed in a future version.\n",
      "Instructions for updating:\n",
      "Use tf.cast instead.\n",
      "Epoch 1/30\n",
      "1816/1816 [==============================] - 0s 248us/sample - loss: 0.7681 - acc: 0.4626 - val_loss: 0.7436 - val_acc: 0.4950\n",
      "Epoch 2/30\n",
      "1816/1816 [==============================] - 0s 42us/sample - loss: 0.6996 - acc: 0.5457 - val_loss: 0.6968 - val_acc: 0.5644\n",
      "Epoch 3/30\n",
      "1816/1816 [==============================] - 0s 43us/sample - loss: 0.6742 - acc: 0.5589 - val_loss: 0.6779 - val_acc: 0.5743\n",
      "Epoch 4/30\n",
      "1816/1816 [==============================] - ETA: 0s - loss: 0.6572 - acc: 0.590 - 0s 45us/sample - loss: 0.6618 - acc: 0.5870 - val_loss: 0.6685 - val_acc: 0.5941\n",
      "Epoch 5/30\n",
      "1816/1816 [==============================] - 0s 42us/sample - loss: 0.6550 - acc: 0.6024 - val_loss: 0.6633 - val_acc: 0.6238\n",
      "Epoch 6/30\n",
      "1816/1816 [==============================] - 0s 44us/sample - loss: 0.6503 - acc: 0.6057 - val_loss: 0.6617 - val_acc: 0.6188\n",
      "Epoch 7/30\n",
      "1816/1816 [==============================] - 0s 42us/sample - loss: 0.6465 - acc: 0.6162 - val_loss: 0.6589 - val_acc: 0.6188\n",
      "Epoch 8/30\n",
      "1816/1816 [==============================] - 0s 41us/sample - loss: 0.6443 - acc: 0.6228 - val_loss: 0.6554 - val_acc: 0.6238\n",
      "Epoch 9/30\n",
      "1816/1816 [==============================] - 0s 41us/sample - loss: 0.6410 - acc: 0.6206 - val_loss: 0.6533 - val_acc: 0.6139\n",
      "Epoch 10/30\n",
      "1816/1816 [==============================] - 0s 41us/sample - loss: 0.6389 - acc: 0.6222 - val_loss: 0.6523 - val_acc: 0.6287\n",
      "Epoch 11/30\n",
      "1816/1816 [==============================] - 0s 41us/sample - loss: 0.6373 - acc: 0.6344 - val_loss: 0.6521 - val_acc: 0.6238\n",
      "Epoch 12/30\n",
      "1816/1816 [==============================] - 0s 41us/sample - loss: 0.6355 - acc: 0.6261 - val_loss: 0.6503 - val_acc: 0.6337\n",
      "Epoch 13/30\n",
      "1816/1816 [==============================] - 0s 41us/sample - loss: 0.6336 - acc: 0.6382 - val_loss: 0.6512 - val_acc: 0.6386\n",
      "Epoch 14/30\n",
      "1816/1816 [==============================] - 0s 40us/sample - loss: 0.6324 - acc: 0.6349 - val_loss: 0.6479 - val_acc: 0.6436\n",
      "Epoch 15/30\n",
      "1816/1816 [==============================] - 0s 41us/sample - loss: 0.6298 - acc: 0.6366 - val_loss: 0.6490 - val_acc: 0.6436\n",
      "Epoch 16/30\n",
      "1816/1816 [==============================] - 0s 41us/sample - loss: 0.6290 - acc: 0.6410 - val_loss: 0.6477 - val_acc: 0.6436\n",
      "Epoch 17/30\n",
      "1816/1816 [==============================] - 0s 42us/sample - loss: 0.6273 - acc: 0.6415 - val_loss: 0.6478 - val_acc: 0.6485\n",
      "Epoch 18/30\n",
      "1816/1816 [==============================] - 0s 42us/sample - loss: 0.6261 - acc: 0.6404 - val_loss: 0.6476 - val_acc: 0.6386\n",
      "Epoch 19/30\n",
      "1816/1816 [==============================] - 0s 40us/sample - loss: 0.6251 - acc: 0.6404 - val_loss: 0.6469 - val_acc: 0.6436\n",
      "Epoch 20/30\n",
      "1816/1816 [==============================] - 0s 40us/sample - loss: 0.6237 - acc: 0.6432 - val_loss: 0.6460 - val_acc: 0.6386\n",
      "Epoch 21/30\n",
      "1816/1816 [==============================] - 0s 41us/sample - loss: 0.6222 - acc: 0.6443 - val_loss: 0.6467 - val_acc: 0.6386\n",
      "Epoch 22/30\n",
      "1816/1816 [==============================] - 0s 40us/sample - loss: 0.6210 - acc: 0.6470 - val_loss: 0.6451 - val_acc: 0.6386\n",
      "Epoch 23/30\n",
      "1816/1816 [==============================] - 0s 40us/sample - loss: 0.6204 - acc: 0.6454 - val_loss: 0.6475 - val_acc: 0.6337\n",
      "Epoch 24/30\n",
      "1816/1816 [==============================] - 0s 40us/sample - loss: 0.6187 - acc: 0.6503 - val_loss: 0.6457 - val_acc: 0.6337\n",
      "Epoch 25/30\n",
      "1816/1816 [==============================] - 0s 40us/sample - loss: 0.6179 - acc: 0.6542 - val_loss: 0.6455 - val_acc: 0.6337\n",
      "Epoch 26/30\n",
      "1816/1816 [==============================] - 0s 41us/sample - loss: 0.6171 - acc: 0.6520 - val_loss: 0.6468 - val_acc: 0.6337\n",
      "Epoch 27/30\n",
      "1816/1816 [==============================] - 0s 43us/sample - loss: 0.6161 - acc: 0.6547 - val_loss: 0.6457 - val_acc: 0.6436\n",
      "Epoch 28/30\n",
      "1816/1816 [==============================] - 0s 41us/sample - loss: 0.6164 - acc: 0.6503 - val_loss: 0.6452 - val_acc: 0.6436\n",
      "Epoch 29/30\n",
      "1816/1816 [==============================] - 0s 40us/sample - loss: 0.6144 - acc: 0.6481 - val_loss: 0.6460 - val_acc: 0.6386\n",
      "Epoch 30/30\n",
      "1816/1816 [==============================] - 0s 42us/sample - loss: 0.6143 - acc: 0.6487 - val_loss: 0.6459 - val_acc: 0.6386\n"
     ]
    }
   ],
   "source": [
    "# step 2: compile the model\n",
    "model.compile(loss = 'categorical_crossentropy', optimizer = 'adam', metrics = ['accuracy'])\n",
    "\n",
    "# step 3: train the model\n",
    "history = model.fit(X_train, y_train_CAT, batch_size= 64, epochs=30,validation_split=0.1)"
   ]
  },
  {
   "cell_type": "code",
   "execution_count": 152,
   "metadata": {},
   "outputs": [
    {
     "data": {
      "image/png": "[encoded data removed]",
      "text/plain": [
       "<Figure size 1296x720 with 1 Axes>"
      ]
     },
     "metadata": {
      "needs_background": "light"
     },
     "output_type": "display_data"
    }
   ],
   "source": [
    "plt.figure(figsize=(18,10))\n",
    "plt.plot(history.history['loss'])\n",
    "plt.plot(history.history['val_loss'])\n",
    "plt.title('Model loss')\n",
    "plt.ylabel('Loss')\n",
    "plt.xlabel('Epoch')\n",
    "plt.legend(['Train', 'Test'], loc='upper left')\n",
    "plt.show()\n"
   ]
  },
  {
   "cell_type": "code",
   "execution_count": 153,
   "metadata": {},
   "outputs": [],
   "source": [
    "predictions = model.predict(X_test)\n",
    "data = pd.DataFrame(data=predictions,columns=['class1','class2'])"
   ]
  },
  {
   "cell_type": "code",
   "execution_count": 154,
   "metadata": {},
   "outputs": [],
   "source": [
    "def target(class1,class2):\n",
    "    if class1 > 0.5:\n",
    "        return 0\n",
    "    elif class2 > 0.5:\n",
    "        return 1\n",
    "\n",
    "data['target']=data.apply(lambda row: target(row['class1'], row['class2']), axis=1)\n",
    "predictions = data['target']"
   ]
  },
  {
   "cell_type": "code",
   "execution_count": 155,
   "metadata": {},
   "outputs": [
    {
     "name": "stdout",
     "output_type": "stream",
     "text": [
      "CLASSIFICATION REPORT:\n",
      "\n",
      "              precision    recall  f1-score   support\n",
      "\n",
      "         0.0       0.58      0.65      0.61       422\n",
      "         1.0       0.63      0.55      0.59       444\n",
      "\n",
      "   micro avg       0.60      0.60      0.60       866\n",
      "   macro avg       0.60      0.60      0.60       866\n",
      "weighted avg       0.60      0.60      0.60       866\n",
      "\n",
      "\n",
      "CONFUSION MATRIX:\n",
      "[[275 147]\n",
      " [198 246]]\n",
      "\n",
      "F-1 Score:  0.5878136200716846\n"
     ]
    }
   ],
   "source": [
    "print(\"CLASSIFICATION REPORT:\\n\")\n",
    "print(classification_report(y_test_2D,predictions))\n",
    "\n",
    "print(\"\\nCONFUSION MATRIX:\")\n",
    "print(confusion_matrix(y_test_2D,predictions))\n",
    "\n",
    "print(\"\\nF-1 Score: \",f1_score(y_test_2D,predictions))\n",
    "\n",
    "f1_scores_new[\"Deep Learning\"] = f1_score(y_test_2D,predictions)"
   ]
  },
  {
   "cell_type": "code",
   "execution_count": 156,
   "metadata": {},
   "outputs": [],
   "source": [
    "score_df = (pd.DataFrame(data=best_scores.values(),columns=['Best Score'],index=best_scores.keys())).sort_values(by='Best Score',ascending=False).reset_index()\n",
    "score_df.columns = ['Model','Best Score']\n",
    "\n",
    "f1_df= (pd.DataFrame(data=f1_scores.values(),columns=['F1 Score'],index=f1_scores.keys())).sort_values(by='F1 Score',ascending=False).reset_index()\n",
    "f1_df.columns = ['Model','f1 Score']\n",
    "\n",
    "f1_df_new= (pd.DataFrame(data=f1_scores_new.values(),columns=['F1 Score'],index=f1_scores_new.keys())).sort_values(by='F1 Score',ascending=False).reset_index()\n",
    "f1_df_new.columns = ['Model','f1 Score']"
   ]
  },
  {
   "cell_type": "code",
   "execution_count": 157,
   "metadata": {},
   "outputs": [],
   "source": [
    "#Model Score Comparison\n",
    "scr = pd.read_csv('score_df.csv')\n",
    "scr.drop(['Unnamed: 0'],axis=1,inplace=True)\n",
    "scr.columns = ['Model','Model Score (Before PCA)']\n",
    "scr.set_index(['Model'],inplace=True)\n",
    "\n",
    "score_df.columns = ['Model','Model Score (After PCA)']\n",
    "score_df.set_index(['Model'],inplace=True)\n",
    "score_comparison = scr.join(score_df)\n",
    "\n",
    "\n",
    "#f1 score Comparison\n",
    "f1_ = pd.read_csv('f1_df.csv')\n",
    "f1_.drop(['Unnamed: 0'],axis=1,inplace=True)\n",
    "f1_.columns = ['Model','F1 Score (Before PCA)']\n",
    "f1_.set_index(['Model'],inplace=True)\n",
    "\n",
    "f1_df.columns = ['Model','F1 Score (After PCA)']\n",
    "f1_df.set_index(['Model'],inplace=True)\n",
    "f1_comparison = scr.join(f1_df)"
   ]
  },
  {
   "cell_type": "code",
   "execution_count": 158,
   "metadata": {},
   "outputs": [
    {
     "data": {
      "text/html": [
       "<div>\n",
       "<style scoped>\n",
       "    .dataframe tbody tr th:only-of-type {\n",
       "        vertical-align: middle;\n",
       "    }\n",
       "\n",
       "    .dataframe tbody tr th {\n",
       "        vertical-align: top;\n",
       "    }\n",
       "\n",
       "    .dataframe thead th {\n",
       "        text-align: right;\n",
       "    }\n",
       "</style>\n",
       "<table border=\"1\" class=\"dataframe\">\n",
       "  <thead>\n",
       "    <tr style=\"text-align: right;\">\n",
       "      <th></th>\n",
       "      <th>Model Score (Before PCA)</th>\n",
       "      <th>Model Score (After PCA)</th>\n",
       "    </tr>\n",
       "    <tr>\n",
       "      <th>Model</th>\n",
       "      <th></th>\n",
       "      <th></th>\n",
       "    </tr>\n",
       "  </thead>\n",
       "  <tbody>\n",
       "    <tr>\n",
       "      <th>Decision Tree</th>\n",
       "      <td>0.681876</td>\n",
       "      <td>0.604841</td>\n",
       "    </tr>\n",
       "    <tr>\n",
       "      <th>Random Forest</th>\n",
       "      <td>0.624603</td>\n",
       "      <td>0.576284</td>\n",
       "    </tr>\n",
       "    <tr>\n",
       "      <th>Kernal SVC</th>\n",
       "      <td>0.623103</td>\n",
       "      <td>0.608711</td>\n",
       "    </tr>\n",
       "    <tr>\n",
       "      <th>Linear SVC</th>\n",
       "      <td>0.617043</td>\n",
       "      <td>0.592278</td>\n",
       "    </tr>\n",
       "    <tr>\n",
       "      <th>Logistic Regression</th>\n",
       "      <td>0.616754</td>\n",
       "      <td>0.592570</td>\n",
       "    </tr>\n",
       "    <tr>\n",
       "      <th>KNN</th>\n",
       "      <td>0.579454</td>\n",
       "      <td>0.551032</td>\n",
       "    </tr>\n",
       "  </tbody>\n",
       "</table>\n",
       "</div>"
      ],
      "text/plain": [
       "                     Model Score (Before PCA)  Model Score (After PCA)\n",
       "Model                                                                 \n",
       "Decision Tree                        0.681876                 0.604841\n",
       "Random Forest                        0.624603                 0.576284\n",
       "Kernal SVC                           0.623103                 0.608711\n",
       "Linear SVC                           0.617043                 0.592278\n",
       "Logistic Regression                  0.616754                 0.592570\n",
       "KNN                                  0.579454                 0.551032"
      ]
     },
     "execution_count": 158,
     "metadata": {},
     "output_type": "execute_result"
    }
   ],
   "source": [
    "score_comparison"
   ]
  },
  {
   "cell_type": "markdown",
   "metadata": {},
   "source": [
    "- PCA is reducing the model score"
   ]
  },
  {
   "cell_type": "code",
   "execution_count": 159,
   "metadata": {
    "scrolled": true
   },
   "outputs": [
    {
     "data": {
      "text/html": [
       "<div>\n",
       "<style scoped>\n",
       "    .dataframe tbody tr th:only-of-type {\n",
       "        vertical-align: middle;\n",
       "    }\n",
       "\n",
       "    .dataframe tbody tr th {\n",
       "        vertical-align: top;\n",
       "    }\n",
       "\n",
       "    .dataframe thead th {\n",
       "        text-align: right;\n",
       "    }\n",
       "</style>\n",
       "<table border=\"1\" class=\"dataframe\">\n",
       "  <thead>\n",
       "    <tr style=\"text-align: right;\">\n",
       "      <th></th>\n",
       "      <th>Model Score (Before PCA)</th>\n",
       "      <th>F1 Score (After PCA)</th>\n",
       "    </tr>\n",
       "    <tr>\n",
       "      <th>Model</th>\n",
       "      <th></th>\n",
       "      <th></th>\n",
       "    </tr>\n",
       "  </thead>\n",
       "  <tbody>\n",
       "    <tr>\n",
       "      <th>Decision Tree</th>\n",
       "      <td>0.681876</td>\n",
       "      <td>0.628450</td>\n",
       "    </tr>\n",
       "    <tr>\n",
       "      <th>Random Forest</th>\n",
       "      <td>0.624603</td>\n",
       "      <td>0.595982</td>\n",
       "    </tr>\n",
       "    <tr>\n",
       "      <th>Kernal SVC</th>\n",
       "      <td>0.623103</td>\n",
       "      <td>0.630021</td>\n",
       "    </tr>\n",
       "    <tr>\n",
       "      <th>Linear SVC</th>\n",
       "      <td>0.617043</td>\n",
       "      <td>0.615385</td>\n",
       "    </tr>\n",
       "    <tr>\n",
       "      <th>Logistic Regression</th>\n",
       "      <td>0.616754</td>\n",
       "      <td>0.615385</td>\n",
       "    </tr>\n",
       "    <tr>\n",
       "      <th>KNN</th>\n",
       "      <td>0.579454</td>\n",
       "      <td>0.571429</td>\n",
       "    </tr>\n",
       "  </tbody>\n",
       "</table>\n",
       "</div>"
      ],
      "text/plain": [
       "                     Model Score (Before PCA)  F1 Score (After PCA)\n",
       "Model                                                              \n",
       "Decision Tree                        0.681876              0.628450\n",
       "Random Forest                        0.624603              0.595982\n",
       "Kernal SVC                           0.623103              0.630021\n",
       "Linear SVC                           0.617043              0.615385\n",
       "Logistic Regression                  0.616754              0.615385\n",
       "KNN                                  0.579454              0.571429"
      ]
     },
     "execution_count": 159,
     "metadata": {},
     "output_type": "execute_result"
    }
   ],
   "source": [
    "f1_comparison"
   ]
  },
  {
   "cell_type": "markdown",
   "metadata": {},
   "source": [
    "- PCA is reducing the F1 score\n",
    "\n",
    "- PCS is reducing the score for every model "
   ]
  },
  {
   "cell_type": "code",
   "execution_count": 160,
   "metadata": {},
   "outputs": [
    {
     "data": {
      "text/html": [
       "<div>\n",
       "<style scoped>\n",
       "    .dataframe tbody tr th:only-of-type {\n",
       "        vertical-align: middle;\n",
       "    }\n",
       "\n",
       "    .dataframe tbody tr th {\n",
       "        vertical-align: top;\n",
       "    }\n",
       "\n",
       "    .dataframe thead th {\n",
       "        text-align: right;\n",
       "    }\n",
       "</style>\n",
       "<table border=\"1\" class=\"dataframe\">\n",
       "  <thead>\n",
       "    <tr style=\"text-align: right;\">\n",
       "      <th></th>\n",
       "      <th>Model</th>\n",
       "      <th>f1 Score</th>\n",
       "    </tr>\n",
       "  </thead>\n",
       "  <tbody>\n",
       "    <tr>\n",
       "      <th>0</th>\n",
       "      <td>Decision Tree (Adaboost)</td>\n",
       "      <td>0.620239</td>\n",
       "    </tr>\n",
       "    <tr>\n",
       "      <th>1</th>\n",
       "      <td>Gradient Boosting</td>\n",
       "      <td>0.613088</td>\n",
       "    </tr>\n",
       "    <tr>\n",
       "      <th>2</th>\n",
       "      <td>Random Forest (Adaboost)</td>\n",
       "      <td>0.611607</td>\n",
       "    </tr>\n",
       "    <tr>\n",
       "      <th>3</th>\n",
       "      <td>Random Forest (Bagging)</td>\n",
       "      <td>0.606690</td>\n",
       "    </tr>\n",
       "    <tr>\n",
       "      <th>4</th>\n",
       "      <td>Random Forest (Pasting)</td>\n",
       "      <td>0.605923</td>\n",
       "    </tr>\n",
       "    <tr>\n",
       "      <th>5</th>\n",
       "      <td>Logistic Regression (Pasting)</td>\n",
       "      <td>0.597619</td>\n",
       "    </tr>\n",
       "    <tr>\n",
       "      <th>6</th>\n",
       "      <td>Deep Learning</td>\n",
       "      <td>0.587814</td>\n",
       "    </tr>\n",
       "    <tr>\n",
       "      <th>7</th>\n",
       "      <td>Voting Classifier (Hard)</td>\n",
       "      <td>0.577778</td>\n",
       "    </tr>\n",
       "    <tr>\n",
       "      <th>8</th>\n",
       "      <td>Voting Classifier (soft)</td>\n",
       "      <td>0.573529</td>\n",
       "    </tr>\n",
       "    <tr>\n",
       "      <th>9</th>\n",
       "      <td>Decision Tree (Bagging)</td>\n",
       "      <td>0.000000</td>\n",
       "    </tr>\n",
       "  </tbody>\n",
       "</table>\n",
       "</div>"
      ],
      "text/plain": [
       "                           Model  f1 Score\n",
       "0       Decision Tree (Adaboost)  0.620239\n",
       "1              Gradient Boosting  0.613088\n",
       "2       Random Forest (Adaboost)  0.611607\n",
       "3        Random Forest (Bagging)  0.606690\n",
       "4        Random Forest (Pasting)  0.605923\n",
       "5  Logistic Regression (Pasting)  0.597619\n",
       "6                  Deep Learning  0.587814\n",
       "7       Voting Classifier (Hard)  0.577778\n",
       "8       Voting Classifier (soft)  0.573529\n",
       "9        Decision Tree (Bagging)  0.000000"
      ]
     },
     "execution_count": 160,
     "metadata": {},
     "output_type": "execute_result"
    }
   ],
   "source": [
    "f1_df_new"
   ]
  },
  {
   "cell_type": "markdown",
   "metadata": {},
   "source": [
    "## Classification:\n",
    "\n",
    "- Describe Dataset \n",
    "Total rows - 9578\n",
    "Total columns – 14 (No of features increased to 19 after Feature Engineering)\n",
    "\n",
    "\n",
    "- Missing Data- As out dataset is not having any missing values so we are randomly creating it dealing with the missing values\n",
    "\n",
    "\n",
    "- Reason for using Standard Scaler – because most of the data is normally distributed and the Standard scale will scale all features such that the distribution is centered around 0, with a standard deviation of 1. If the data is not normally distributed and standard deviation is very small then Min-Max is better but these conditions are not fulfilling in our data so that is why we are not using this scaling.\n",
    "\n",
    "\n",
    "- Why F1 score- As in our data both false negatives and false positives to be less are important because:\n",
    "we don’t want defaulters should be given a loan so -> we want less false negatives \n",
    "And for any company to be profitably they don’t want the one who can give money back should be classifies as not fully paid customers so in that case we want the false positives to be also less.\n",
    "Both recall and precision are important and should be high. Both type1 error and type11 error should be least so we are taking F1 score as decision maker as its is a harmonic mean of both and considers both the score function. F1 Score is better measure as it seek a balance between Precision and Recall AND there is an uneven class distribution (large number of Actual Negatives).\n"
   ]
  },
  {
   "cell_type": "markdown",
   "metadata": {},
   "source": [
    "# Final Tree"
   ]
  },
  {
   "cell_type": "code",
   "execution_count": 161,
   "metadata": {},
   "outputs": [
    {
     "data": {
      "image/png": "[encoded data removed]",
      "text/plain": [
       "<Figure size 1036.8x1800 with 1 Axes>"
      ]
     },
     "metadata": {},
     "output_type": "display_data"
    }
   ],
   "source": [
    "from sklearn.tree import DecisionTreeClassifier\n",
    "from dtreeplt import dtreeplt\n",
    "\n",
    "dt = DecisionTreeClassifier(max_depth=10, min_samples_leaf=0.1,min_samples_split=0.4,random_state=1210)\n",
    "dt.fit(X_train,y_train)\n",
    "\n",
    "dtree = dtreeplt(\n",
    "    model=dt,\n",
    "    feature_names=list(X_train.columns),\n",
    "    target_names=['fully.paid','not.fully.paid'])\n",
    "\n",
    "fig = dtree.view()\n",
    "fig.savefig('output.png')"
   ]
  },
  {
   "cell_type": "markdown",
   "metadata": {},
   "source": [
    "### Decision Tree (before  PCA) is clearly the best model \n",
    "- Best F1 Score\n",
    "- Best Score (Cross Validation)\n",
    "- Easy to Interprete"
   ]
  }
 ],
 "metadata": {
  "anaconda-cloud": {},
  "kernelspec": {
   "display_name": "Python 3",
   "language": "python",
   "name": "python3"
  },
  "language_info": {
   "codemirror_mode": {
    "name": "ipython",
    "version": 3
   },
   "file_extension": ".py",
   "mimetype": "text/x-python",
   "name": "python",
   "nbconvert_exporter": "python",
   "pygments_lexer": "ipython3",
   "version": "3.6.8"
  }
 },
 "nbformat": 4,
 "nbformat_minor": 1
}
